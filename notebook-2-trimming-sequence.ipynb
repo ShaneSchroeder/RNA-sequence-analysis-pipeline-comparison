{
 "cells": [
  {
   "cell_type": "markdown",
   "id": "15364d51",
   "metadata": {},
   "source": [
    "# Trimming Bad Data"
   ]
  },
  {
   "cell_type": "markdown",
   "id": "0fc7327b",
   "metadata": {},
   "source": [
    "We are now going to trim data from the sequences that are of bad quality using a program called \"Trimmomatic\"\n",
    "\n",
    "An example use of this program loos like this\n",
    "\n",
    "## TrimmomaticSE small.fastq.gz small_trimmed -threads 8 SLIDINGWINDOW:4:20 MINLEN:75"
   ]
  },
  {
   "cell_type": "code",
   "execution_count": 1,
   "id": "11fff8f1",
   "metadata": {},
   "outputs": [
    {
     "name": "stdout",
     "output_type": "stream",
     "text": [
      "schroe51\n"
     ]
    }
   ],
   "source": [
    "MIAMIID = !echo $USER\n",
    "MIAMIID = str(MIAMIID)\n",
    "MIAMIID = MIAMIID[2:len(MIAMIID)-2]\n",
    "print(MIAMIID)"
   ]
  },
  {
   "cell_type": "markdown",
   "id": "84b42a94",
   "metadata": {},
   "source": [
    "# Important:\n",
    "\n",
    "We now need to install trimmomatic using the following commands in the terminal:\n",
    "\n",
    "First, we will download the zip file containing the .jar file."
   ]
  },
  {
   "cell_type": "code",
   "execution_count": 5,
   "id": "8a32bd4e",
   "metadata": {},
   "outputs": [
    {
     "name": "stdout",
     "output_type": "stream",
     "text": [
      "/home/schroe51/software\n",
      "--2022-11-17 11:34:11--  http://www.usadellab.org/cms/uploads/supplementary/Trimmomatic/Trimmomatic-0.36.zip\n",
      "Resolving www.usadellab.org... 199.195.140.36\n",
      "Connecting to www.usadellab.org|199.195.140.36|:80... connected.\n",
      "HTTP request sent, awaiting response... 200 OK\n",
      "Length: 131275 (128K) [application/zip]\n",
      "Saving to: ‘Trimmomatic-0.36.zip’\n",
      "\n",
      "Trimmomatic-0.36.zi 100%[===================>] 128.20K   366KB/s    in 0.4s    \n",
      "\n",
      "2022-11-17 11:34:12 (366 KB/s) - ‘Trimmomatic-0.36.zip’ saved [131275/131275]\n",
      "\n"
     ]
    }
   ],
   "source": [
    "%cd /home/{MIAMIID}/software\n",
    "!wget http://www.usadellab.org/cms/uploads/supplementary/Trimmomatic/Trimmomatic-0.36.zip"
   ]
  },
  {
   "cell_type": "markdown",
   "id": "8bcb3b82",
   "metadata": {},
   "source": [
    "Now we will unzip and remove the original zip file:"
   ]
  },
  {
   "cell_type": "code",
   "execution_count": 6,
   "id": "fad6c7ef",
   "metadata": {},
   "outputs": [
    {
     "name": "stdout",
     "output_type": "stream",
     "text": [
      "Archive:  Trimmomatic-0.36.zip\n",
      "   creating: Trimmomatic-0.36/\n",
      "  inflating: Trimmomatic-0.36/LICENSE  \n",
      "  inflating: Trimmomatic-0.36/trimmomatic-0.36.jar  \n",
      "   creating: Trimmomatic-0.36/adapters/\n",
      "  inflating: Trimmomatic-0.36/adapters/NexteraPE-PE.fa  \n",
      "  inflating: Trimmomatic-0.36/adapters/TruSeq2-PE.fa  \n",
      "  inflating: Trimmomatic-0.36/adapters/TruSeq2-SE.fa  \n",
      "  inflating: Trimmomatic-0.36/adapters/TruSeq3-PE-2.fa  \n",
      "  inflating: Trimmomatic-0.36/adapters/TruSeq3-PE.fa  \n",
      "  inflating: Trimmomatic-0.36/adapters/TruSeq3-SE.fa  \n",
      "FastQC\tsratoolkit.3.0.0-centos_linux64  Trimmomatic-0.36\n"
     ]
    }
   ],
   "source": [
    "!unzip Trimmomatic-0.36.zip\n",
    "!rm Trimmomatic-0.36.zip\n",
    "!ls"
   ]
  },
  {
   "cell_type": "markdown",
   "id": "d994f45f",
   "metadata": {},
   "source": [
    "## Now we will run Trimmomatic on SRR24062655 so we can obtain a higher quality version of the sequences in the file. Keep in mind this is paired end data."
   ]
  },
  {
   "cell_type": "code",
   "execution_count": 2,
   "id": "b3fabcf2",
   "metadata": {},
   "outputs": [
    {
     "name": "stdout",
     "output_type": "stream",
     "text": [
      "/home/schroe51/test/raw_data/fastq\n",
      "getFastqData.sh       SRR24062654.fastq.gz  SRR24062657.fastq.gz\r\n",
      "SRR24062652.fastq.gz  SRR24062655.fastq.gz\r\n",
      "SRR24062653.fastq.gz  SRR24062656.fastq.gz\r\n"
     ]
    }
   ],
   "source": [
    "%cd /home/{MIAMIID}/test/raw_data/fastq/\n",
    "!ls"
   ]
  },
  {
   "cell_type": "code",
   "execution_count": 4,
   "id": "60d20328",
   "metadata": {},
   "outputs": [
    {
     "name": "stdout",
     "output_type": "stream",
     "text": [
      "24\n"
     ]
    }
   ],
   "source": [
    "import os\n",
    "numOfCPUs = len(os.sched_getaffinity(0))\n",
    "print(numOfCPUs)"
   ]
  },
  {
   "cell_type": "code",
   "execution_count": 7,
   "id": "fc3088ea",
   "metadata": {
    "scrolled": true
   },
   "outputs": [
    {
     "name": "stdout",
     "output_type": "stream",
     "text": [
      "TrimmomaticSE: Started with arguments:\n",
      " SRR24062655.fastq.gz SRR24062655_trimmed.fastq.gz -threads 24 SLIDINGWINDOW:4:20 MINLEN:75\n",
      "Quality encoding detected as phred33\n",
      "^C\n"
     ]
    }
   ],
   "source": [
    "!java -jar /home/{MIAMIID}/software/Trimmomatic-0.36/trimmomatic-0.36.jar SE SRR24062655.fastq.gz SRR24062655_trimmed.fastq.gz -threads {numOfCPUs} SLIDINGWINDOW:4:20 MINLEN:75"
   ]
  },
  {
   "cell_type": "code",
   "execution_count": 5,
   "id": "00b85998",
   "metadata": {},
   "outputs": [
    {
     "name": "stdout",
     "output_type": "stream",
     "text": [
      "SRR5017135_trimmed.fastq\r\n"
     ]
    }
   ],
   "source": [
    "!ls *_trimmed.fastq"
   ]
  },
  {
   "cell_type": "code",
   "execution_count": 8,
   "id": "f6219cde",
   "metadata": {},
   "outputs": [
    {
     "name": "stdout",
     "output_type": "stream",
     "text": [
      "mv: cannot stat ‘*_trimmed.fastq’: No such file or directory\r\n"
     ]
    }
   ],
   "source": [
    "%mkdir -p /home/{MIAMIID}/test/trimmed_reads\n",
    "%mv *_trimmed.fastq /home/{MIAMIID}/test/trimmed_reads"
   ]
  },
  {
   "cell_type": "code",
   "execution_count": 9,
   "id": "67799a60",
   "metadata": {},
   "outputs": [
    {
     "name": "stdout",
     "output_type": "stream",
     "text": [
      "/home/schroe51/test/trimmed_reads\n"
     ]
    }
   ],
   "source": [
    "%cd /home/{MIAMIID}/test/trimmed_reads\n",
    "!ls"
   ]
  },
  {
   "cell_type": "markdown",
   "id": "0cc0cc93",
   "metadata": {},
   "source": [
    "## We can now use fastqc on the trimmed sequence to see if the overall quality is improved.\n",
    "\n",
    "Please make sure that \"/home/{MIAMIID}/software/FastQC/\" is on the PATH, if NOT run the following commands:"
   ]
  },
  {
   "cell_type": "code",
   "execution_count": 10,
   "id": "6de9e99a",
   "metadata": {},
   "outputs": [
    {
     "data": {
      "text/plain": [
       "'/software/R/4.1.2/bin:/software/gcc/9.2.0/bin:/software/kallisto/0.48.0/bin:/software/python/anaconda3/condabin:/software/python/anaconda3/bin:/usr/local/bin:/usr/local/sbin:/opt/moab/bin:/usr/local/bin:/usr/local/sbin:/opt/moab/bin:/usr/local/sbin:/usr/local/bin:/usr/sbin:/usr/bin:/sbin:/bin:/bin:/usr/bin:/usr/X11R6/bin:/opt/puppetlabs/bin'"
      ]
     },
     "execution_count": 10,
     "metadata": {},
     "output_type": "execute_result"
    }
   ],
   "source": [
    "%env PATH"
   ]
  },
  {
   "cell_type": "code",
   "execution_count": 11,
   "id": "5a3ccead",
   "metadata": {
    "scrolled": false
   },
   "outputs": [
    {
     "name": "stdout",
     "output_type": "stream",
     "text": [
      "/home/schroe51/software/FastQC/:/software/R/4.1.2/bin:/software/gcc/9.2.0/bin:/software/kallisto/0.48.0/bin:/software/python/anaconda3/condabin:/software/python/anaconda3/bin:/usr/local/bin:/usr/local/sbin:/opt/moab/bin:/usr/local/bin:/usr/local/sbin:/opt/moab/bin:/usr/local/sbin:/usr/local/bin:/usr/sbin:/usr/bin:/sbin:/bin:/bin:/usr/bin:/usr/X11R6/bin:/opt/puppetlabs/bin\n"
     ]
    }
   ],
   "source": [
    "curPath = %env PATH\n",
    "pathWithFastQC = \"/home/\" + MIAMIID + \"/software/FastQC/:\" + curPath\n",
    "print(pathWithFastQC)"
   ]
  },
  {
   "cell_type": "code",
   "execution_count": 12,
   "id": "5320a04b",
   "metadata": {},
   "outputs": [],
   "source": [
    "import os\n",
    "os.environ['PATH'] = pathWithFastQC"
   ]
  },
  {
   "cell_type": "code",
   "execution_count": 11,
   "id": "b89b4aa2",
   "metadata": {
    "scrolled": false
   },
   "outputs": [
    {
     "name": "stdout",
     "output_type": "stream",
     "text": [
      "Analysis complete for SRR5017135_trimmed.fastq\n"
     ]
    },
    {
     "name": "stderr",
     "output_type": "stream",
     "text": [
      "Started analysis of SRR5017135_trimmed.fastq\n",
      "Approx 55% complete for SRR5017135_trimmed.fastq\n"
     ]
    }
   ],
   "source": [
    "%%sh\n",
    "fastqc SRR5017135_trimmed.fastq"
   ]
  },
  {
   "cell_type": "code",
   "execution_count": 12,
   "id": "250acf43",
   "metadata": {},
   "outputs": [],
   "source": [
    "%mkdir -p /home/{MIAMIID}/test/trimmed_reads/fastqc_trimmed_results\n",
    "%mv /home/{MIAMIID}/test/trimmed_reads/*.html /home/{MIAMIID}/test/trimmed_reads/fastqc_trimmed_results\n",
    "%mv /home/{MIAMIID}/test/trimmed_reads/*.zip /home/{MIAMIID}/test/trimmed_reads/fastqc_trimmed_results"
   ]
  },
  {
   "cell_type": "markdown",
   "id": "89bd7289",
   "metadata": {},
   "source": [
    "### Now you can compare the results between the untrimmed and trimmed data quality by viewing the html files in the \"/home/{MIAMIID}/test/trimmed_reads/fastqc_trimmed_results\" folder"
   ]
  },
  {
   "cell_type": "markdown",
   "id": "664f2035",
   "metadata": {},
   "source": [
    "# We can process all of the files with trimmomatic using the following script: \n",
    "\n",
    "### This will take a considerable amount of time (~1 hr+, depending on CPU resources)"
   ]
  },
  {
   "cell_type": "code",
   "execution_count": 2,
   "id": "c4766816",
   "metadata": {},
   "outputs": [
    {
     "name": "stdout",
     "output_type": "stream",
     "text": [
      "/home/schroe51/test/raw_data/fastq\n",
      "getFastqData.sh       SRR24062654.fastq.gz  SRR24062657.fastq.gz\r\n",
      "SRR24062652.fastq.gz  SRR24062655.fastq.gz  trimFastq.sh\r\n",
      "SRR24062653.fastq.gz  SRR24062656.fastq.gz\r\n"
     ]
    }
   ],
   "source": [
    "%cd /home/{MIAMIID}/test/raw_data/fastq\n",
    "!ls"
   ]
  },
  {
   "cell_type": "code",
   "execution_count": 5,
   "id": "1e4ee17e",
   "metadata": {},
   "outputs": [],
   "source": [
    "sh = \"\"\"\n",
    "for infile in /home/\"\"\" + MIAMIID + \"\"\"/test/raw_data/fastq/*.gz\n",
    " do\n",
    " base=$(basename --suffix=.fastq $infile)\n",
    " java -jar /home/\"\"\" + MIAMIID + \"\"\"/software/Trimmomatic-0.36/trimmomatic-0.36.jar SE \\\n",
    "  -threads \"\"\" + str(numOfCPUs) + \"\"\" \\\n",
    "  ${infile} ${base}_trimmed.fastq \\\n",
    "  SLIDINGWINDOW:4:20 MINLEN:75\n",
    " done\n",
    "\"\"\"\n",
    "with open('trimFastq.sh', 'w') as file:\n",
    "  file.write(sh)"
   ]
  },
  {
   "cell_type": "code",
   "execution_count": null,
   "id": "cb6c1459",
   "metadata": {},
   "outputs": [],
   "source": [
    "slurm = \"\"\"\n",
    "#!/bin/bash\n",
    "#Comment -  to be submitted by: sbatch rna-seq-notebook-2.sh\n",
    "#SBATCH --time=4:00:00          # 4 hours max\n",
    "#SBATCH --nodes=1               # 1 compute node\n",
    "#SBATCH --ntasks-per-node=24    # 24 cpu cores\n",
    "#SBATCH --partition=batch       # requests a compute node\n",
    "#SBATCH --job-name=rna-seq-notebook-2\n",
    "#SBATCH --output=rna-seq-notebook-2.out\n",
    "\n",
    "#Comment - batch job setup complete\n",
    "\n",
    "#Comment – load a program module, for example Python\n",
    "\n",
    "source loadAnaconda.sh\n",
    "\n",
    "#Comment – path to execution directory, for example\n",
    "\n",
    "cd $HOME/test/raw_data/fastq\n",
    "\n",
    "#Comment – program execution line\n",
    "\n",
    "source trimFastq.sh\n",
    "\"\"\"\n",
    "with open('rna-seq-notebook-2.sh') as slurmScript:\n",
    "    slurmScript.write(slurm)"
   ]
  },
  {
   "cell_type": "code",
   "execution_count": 6,
   "id": "fe12a98f",
   "metadata": {},
   "outputs": [
    {
     "name": "stdout",
     "output_type": "stream",
     "text": [
      "TrimmomaticSE: Started with arguments:\n",
      " -threads 24 /home/schroe51/test/raw_data/fastq/SRR24062652.fastq.gz SRR24062652.fastq.gz_trimmed.fastq SLIDINGWINDOW:4:20 MINLEN:75\n",
      "Quality encoding detected as phred33\n",
      "Input Reads: 34669058 Surviving: 32878975 (94.84%) Dropped: 1790083 (5.16%)\n",
      "TrimmomaticSE: Completed successfully\n",
      "TrimmomaticSE: Started with arguments:\n",
      " -threads 24 /home/schroe51/test/raw_data/fastq/SRR24062653.fastq.gz SRR24062653.fastq.gz_trimmed.fastq SLIDINGWINDOW:4:20 MINLEN:75\n",
      "Quality encoding detected as phred33\n",
      "Input Reads: 35289489 Surviving: 34057091 (96.51%) Dropped: 1232398 (3.49%)\n",
      "TrimmomaticSE: Completed successfully\n",
      "TrimmomaticSE: Started with arguments:\n",
      " -threads 24 /home/schroe51/test/raw_data/fastq/SRR24062654.fastq.gz SRR24062654.fastq.gz_trimmed.fastq SLIDINGWINDOW:4:20 MINLEN:75\n",
      "Quality encoding detected as phred33\n",
      "Input Reads: 34928074 Surviving: 33207411 (95.07%) Dropped: 1720663 (4.93%)\n",
      "TrimmomaticSE: Completed successfully\n",
      "TrimmomaticSE: Started with arguments:\n",
      " -threads 24 /home/schroe51/test/raw_data/fastq/SRR24062655.fastq.gz SRR24062655.fastq.gz_trimmed.fastq SLIDINGWINDOW:4:20 MINLEN:75\n",
      "Quality encoding detected as phred33\n",
      "Input Reads: 34237253 Surviving: 33278332 (97.20%) Dropped: 958921 (2.80%)\n",
      "TrimmomaticSE: Completed successfully\n",
      "TrimmomaticSE: Started with arguments:\n",
      " -threads 24 /home/schroe51/test/raw_data/fastq/SRR24062656.fastq.gz SRR24062656.fastq.gz_trimmed.fastq SLIDINGWINDOW:4:20 MINLEN:75\n",
      "Quality encoding detected as phred33\n",
      "Input Reads: 35400482 Surviving: 34260305 (96.78%) Dropped: 1140177 (3.22%)\n",
      "TrimmomaticSE: Completed successfully\n",
      "TrimmomaticSE: Started with arguments:\n",
      " -threads 24 /home/schroe51/test/raw_data/fastq/SRR24062657.fastq.gz SRR24062657.fastq.gz_trimmed.fastq SLIDINGWINDOW:4:20 MINLEN:75\n",
      "Quality encoding detected as phred33\n",
      "Input Reads: 34487720 Surviving: 32880594 (95.34%) Dropped: 1607126 (4.66%)\n",
      "TrimmomaticSE: Completed successfully\n"
     ]
    }
   ],
   "source": [
    "!sbatch rna-seq-notebook-2.sh"
   ]
  },
  {
   "cell_type": "markdown",
   "id": "a160b4db",
   "metadata": {},
   "source": [
    "Now we move all the trimmed files to another folder for organization."
   ]
  },
  {
   "cell_type": "code",
   "execution_count": 7,
   "id": "2a3163b5",
   "metadata": {
    "scrolled": true
   },
   "outputs": [
    {
     "name": "stdout",
     "output_type": "stream",
     "text": [
      "SRR24062652.fastq.gz_trimmed.fastq  SRR24062655.fastq.gz_trimmed.fastq\r\n",
      "SRR24062653.fastq.gz_trimmed.fastq  SRR24062656.fastq.gz_trimmed.fastq\r\n",
      "SRR24062654.fastq.gz_trimmed.fastq  SRR24062657.fastq.gz_trimmed.fastq\r\n"
     ]
    }
   ],
   "source": [
    "!ls *_trimmed.fastq"
   ]
  },
  {
   "cell_type": "code",
   "execution_count": 8,
   "id": "8fac6847",
   "metadata": {},
   "outputs": [],
   "source": [
    "%mkdir -p /home/{MIAMIID}/test/trimmed_reads\n",
    "%mv *_trimmed.fastq /home/{MIAMIID}/test/trimmed_reads"
   ]
  },
  {
   "cell_type": "markdown",
   "id": "6860595c",
   "metadata": {},
   "source": [
    "Now we can run fastqc on these files to see the quality reports\n",
    "\n",
    "We can also remove all of the normal fastq.gz files since we have higher quality versions of them now."
   ]
  },
  {
   "cell_type": "code",
   "execution_count": 13,
   "id": "119efadd",
   "metadata": {
    "scrolled": true
   },
   "outputs": [
    {
     "name": "stdout",
     "output_type": "stream",
     "text": [
      "Analysis complete for SRR24062652.fastq.gz_trimmed.fastq\n",
      "Analysis complete for SRR24062653.fastq.gz_trimmed.fastq\n",
      "Analysis complete for SRR24062654.fastq.gz_trimmed.fastq\n",
      "Analysis complete for SRR24062655.fastq.gz_trimmed.fastq\n",
      "Analysis complete for SRR24062656.fastq.gz_trimmed.fastq\n",
      "Analysis complete for SRR24062657.fastq.gz_trimmed.fastq\n"
     ]
    },
    {
     "name": "stderr",
     "output_type": "stream",
     "text": [
      "Started analysis of SRR24062652.fastq.gz_trimmed.fastq\n",
      "Approx 5% complete for SRR24062652.fastq.gz_trimmed.fastq\n",
      "Approx 10% complete for SRR24062652.fastq.gz_trimmed.fastq\n",
      "Approx 15% complete for SRR24062652.fastq.gz_trimmed.fastq\n",
      "Approx 20% complete for SRR24062652.fastq.gz_trimmed.fastq\n",
      "Approx 25% complete for SRR24062652.fastq.gz_trimmed.fastq\n",
      "Approx 30% complete for SRR24062652.fastq.gz_trimmed.fastq\n",
      "Approx 35% complete for SRR24062652.fastq.gz_trimmed.fastq\n",
      "Approx 40% complete for SRR24062652.fastq.gz_trimmed.fastq\n",
      "Approx 45% complete for SRR24062652.fastq.gz_trimmed.fastq\n",
      "Approx 50% complete for SRR24062652.fastq.gz_trimmed.fastq\n",
      "Approx 55% complete for SRR24062652.fastq.gz_trimmed.fastq\n",
      "Approx 60% complete for SRR24062652.fastq.gz_trimmed.fastq\n",
      "Approx 65% complete for SRR24062652.fastq.gz_trimmed.fastq\n",
      "Approx 70% complete for SRR24062652.fastq.gz_trimmed.fastq\n",
      "Approx 75% complete for SRR24062652.fastq.gz_trimmed.fastq\n",
      "Approx 80% complete for SRR24062652.fastq.gz_trimmed.fastq\n",
      "Approx 85% complete for SRR24062652.fastq.gz_trimmed.fastq\n",
      "Approx 90% complete for SRR24062652.fastq.gz_trimmed.fastq\n",
      "Approx 95% complete for SRR24062652.fastq.gz_trimmed.fastq\n",
      "Started analysis of SRR24062653.fastq.gz_trimmed.fastq\n",
      "Approx 5% complete for SRR24062653.fastq.gz_trimmed.fastq\n",
      "Approx 10% complete for SRR24062653.fastq.gz_trimmed.fastq\n",
      "Approx 15% complete for SRR24062653.fastq.gz_trimmed.fastq\n",
      "Approx 20% complete for SRR24062653.fastq.gz_trimmed.fastq\n",
      "Approx 25% complete for SRR24062653.fastq.gz_trimmed.fastq\n",
      "Approx 30% complete for SRR24062653.fastq.gz_trimmed.fastq\n",
      "Approx 35% complete for SRR24062653.fastq.gz_trimmed.fastq\n",
      "Approx 40% complete for SRR24062653.fastq.gz_trimmed.fastq\n",
      "Approx 45% complete for SRR24062653.fastq.gz_trimmed.fastq\n",
      "Approx 50% complete for SRR24062653.fastq.gz_trimmed.fastq\n",
      "Approx 55% complete for SRR24062653.fastq.gz_trimmed.fastq\n",
      "Approx 60% complete for SRR24062653.fastq.gz_trimmed.fastq\n",
      "Approx 65% complete for SRR24062653.fastq.gz_trimmed.fastq\n",
      "Approx 70% complete for SRR24062653.fastq.gz_trimmed.fastq\n",
      "Approx 75% complete for SRR24062653.fastq.gz_trimmed.fastq\n",
      "Approx 80% complete for SRR24062653.fastq.gz_trimmed.fastq\n",
      "Approx 85% complete for SRR24062653.fastq.gz_trimmed.fastq\n",
      "Approx 90% complete for SRR24062653.fastq.gz_trimmed.fastq\n",
      "Approx 95% complete for SRR24062653.fastq.gz_trimmed.fastq\n",
      "Started analysis of SRR24062654.fastq.gz_trimmed.fastq\n",
      "Approx 5% complete for SRR24062654.fastq.gz_trimmed.fastq\n",
      "Approx 10% complete for SRR24062654.fastq.gz_trimmed.fastq\n",
      "Approx 15% complete for SRR24062654.fastq.gz_trimmed.fastq\n",
      "Approx 20% complete for SRR24062654.fastq.gz_trimmed.fastq\n",
      "Approx 25% complete for SRR24062654.fastq.gz_trimmed.fastq\n",
      "Approx 30% complete for SRR24062654.fastq.gz_trimmed.fastq\n",
      "Approx 35% complete for SRR24062654.fastq.gz_trimmed.fastq\n",
      "Approx 40% complete for SRR24062654.fastq.gz_trimmed.fastq\n",
      "Approx 45% complete for SRR24062654.fastq.gz_trimmed.fastq\n",
      "Approx 50% complete for SRR24062654.fastq.gz_trimmed.fastq\n",
      "Approx 55% complete for SRR24062654.fastq.gz_trimmed.fastq\n",
      "Approx 60% complete for SRR24062654.fastq.gz_trimmed.fastq\n",
      "Approx 65% complete for SRR24062654.fastq.gz_trimmed.fastq\n",
      "Approx 70% complete for SRR24062654.fastq.gz_trimmed.fastq\n",
      "Approx 75% complete for SRR24062654.fastq.gz_trimmed.fastq\n",
      "Approx 80% complete for SRR24062654.fastq.gz_trimmed.fastq\n",
      "Approx 85% complete for SRR24062654.fastq.gz_trimmed.fastq\n",
      "Approx 90% complete for SRR24062654.fastq.gz_trimmed.fastq\n",
      "Approx 95% complete for SRR24062654.fastq.gz_trimmed.fastq\n",
      "Started analysis of SRR24062655.fastq.gz_trimmed.fastq\n",
      "Approx 5% complete for SRR24062655.fastq.gz_trimmed.fastq\n",
      "Approx 10% complete for SRR24062655.fastq.gz_trimmed.fastq\n",
      "Approx 15% complete for SRR24062655.fastq.gz_trimmed.fastq\n",
      "Approx 20% complete for SRR24062655.fastq.gz_trimmed.fastq\n",
      "Approx 25% complete for SRR24062655.fastq.gz_trimmed.fastq\n",
      "Approx 30% complete for SRR24062655.fastq.gz_trimmed.fastq\n",
      "Approx 35% complete for SRR24062655.fastq.gz_trimmed.fastq\n",
      "Approx 40% complete for SRR24062655.fastq.gz_trimmed.fastq\n",
      "Approx 45% complete for SRR24062655.fastq.gz_trimmed.fastq\n",
      "Approx 50% complete for SRR24062655.fastq.gz_trimmed.fastq\n",
      "Approx 55% complete for SRR24062655.fastq.gz_trimmed.fastq\n",
      "Approx 60% complete for SRR24062655.fastq.gz_trimmed.fastq\n",
      "Approx 65% complete for SRR24062655.fastq.gz_trimmed.fastq\n",
      "Approx 70% complete for SRR24062655.fastq.gz_trimmed.fastq\n",
      "Approx 75% complete for SRR24062655.fastq.gz_trimmed.fastq\n",
      "Approx 80% complete for SRR24062655.fastq.gz_trimmed.fastq\n",
      "Approx 85% complete for SRR24062655.fastq.gz_trimmed.fastq\n",
      "Approx 90% complete for SRR24062655.fastq.gz_trimmed.fastq\n",
      "Approx 95% complete for SRR24062655.fastq.gz_trimmed.fastq\n",
      "Started analysis of SRR24062656.fastq.gz_trimmed.fastq\n",
      "Approx 5% complete for SRR24062656.fastq.gz_trimmed.fastq\n",
      "Approx 10% complete for SRR24062656.fastq.gz_trimmed.fastq\n",
      "Approx 15% complete for SRR24062656.fastq.gz_trimmed.fastq\n",
      "Approx 20% complete for SRR24062656.fastq.gz_trimmed.fastq\n",
      "Approx 25% complete for SRR24062656.fastq.gz_trimmed.fastq\n",
      "Approx 30% complete for SRR24062656.fastq.gz_trimmed.fastq\n",
      "Approx 35% complete for SRR24062656.fastq.gz_trimmed.fastq\n",
      "Approx 40% complete for SRR24062656.fastq.gz_trimmed.fastq\n",
      "Approx 45% complete for SRR24062656.fastq.gz_trimmed.fastq\n",
      "Approx 50% complete for SRR24062656.fastq.gz_trimmed.fastq\n",
      "Approx 55% complete for SRR24062656.fastq.gz_trimmed.fastq\n",
      "Approx 60% complete for SRR24062656.fastq.gz_trimmed.fastq\n",
      "Approx 65% complete for SRR24062656.fastq.gz_trimmed.fastq\n",
      "Approx 70% complete for SRR24062656.fastq.gz_trimmed.fastq\n",
      "Approx 75% complete for SRR24062656.fastq.gz_trimmed.fastq\n",
      "Approx 80% complete for SRR24062656.fastq.gz_trimmed.fastq\n",
      "Approx 85% complete for SRR24062656.fastq.gz_trimmed.fastq\n",
      "Approx 90% complete for SRR24062656.fastq.gz_trimmed.fastq\n",
      "Approx 95% complete for SRR24062656.fastq.gz_trimmed.fastq\n",
      "Started analysis of SRR24062657.fastq.gz_trimmed.fastq\n",
      "Approx 5% complete for SRR24062657.fastq.gz_trimmed.fastq\n",
      "Approx 10% complete for SRR24062657.fastq.gz_trimmed.fastq\n",
      "Approx 15% complete for SRR24062657.fastq.gz_trimmed.fastq\n",
      "Approx 20% complete for SRR24062657.fastq.gz_trimmed.fastq\n",
      "Approx 25% complete for SRR24062657.fastq.gz_trimmed.fastq\n",
      "Approx 30% complete for SRR24062657.fastq.gz_trimmed.fastq\n",
      "Approx 35% complete for SRR24062657.fastq.gz_trimmed.fastq\n",
      "Approx 40% complete for SRR24062657.fastq.gz_trimmed.fastq\n",
      "Approx 45% complete for SRR24062657.fastq.gz_trimmed.fastq\n",
      "Approx 50% complete for SRR24062657.fastq.gz_trimmed.fastq\n",
      "Approx 55% complete for SRR24062657.fastq.gz_trimmed.fastq\n",
      "Approx 60% complete for SRR24062657.fastq.gz_trimmed.fastq\n",
      "Approx 65% complete for SRR24062657.fastq.gz_trimmed.fastq\n",
      "Approx 70% complete for SRR24062657.fastq.gz_trimmed.fastq\n",
      "Approx 75% complete for SRR24062657.fastq.gz_trimmed.fastq\n",
      "Approx 80% complete for SRR24062657.fastq.gz_trimmed.fastq\n",
      "Approx 85% complete for SRR24062657.fastq.gz_trimmed.fastq\n",
      "Approx 90% complete for SRR24062657.fastq.gz_trimmed.fastq\n",
      "Approx 95% complete for SRR24062657.fastq.gz_trimmed.fastq\n"
     ]
    }
   ],
   "source": [
    "%%sh\n",
    "for trimmed_file in ~/test/trimmed_reads/*_trimmed.fastq\n",
    " do\n",
    " fastqc $trimmed_file\n",
    " done"
   ]
  },
  {
   "cell_type": "code",
   "execution_count": 14,
   "id": "8423bab2",
   "metadata": {},
   "outputs": [],
   "source": [
    "%mkdir -p /home/{MIAMIID}/test/trimmed_reads/fastqc_trimmed_results\n",
    "%mv /home/{MIAMIID}/test/trimmed_reads/*.html /home/{MIAMIID}/test/trimmed_reads/fastqc_trimmed_results\n",
    "%mv /home/{MIAMIID}/test/trimmed_reads/*.zip /home/{MIAMIID}/test/trimmed_reads/fastqc_trimmed_results"
   ]
  },
  {
   "cell_type": "markdown",
   "id": "e6c034a9",
   "metadata": {},
   "source": [
    "# Now you have trimmed sequences of higher quality than the original sequences."
   ]
  }
 ],
 "metadata": {
  "kernelspec": {
   "display_name": "Python 3",
   "language": "python",
   "name": "python3"
  },
  "language_info": {
   "codemirror_mode": {
    "name": "ipython",
    "version": 3
   },
   "file_extension": ".py",
   "mimetype": "text/x-python",
   "name": "python",
   "nbconvert_exporter": "python",
   "pygments_lexer": "ipython3",
   "version": "3.7.1"
  }
 },
 "nbformat": 4,
 "nbformat_minor": 5
}
