{
 "cells": [
  {
   "cell_type": "markdown",
   "metadata": {},
   "source": [
    "# Importing data from the NCBI Sequence Read Archive (SRA)"
   ]
  },
  {
   "cell_type": "markdown",
   "metadata": {
    "id": "Pi6cKbVSylvh"
   },
   "source": [
    "If not installed, we need to download the sratoolkit so that we can download and process sequences."
   ]
  },
  {
   "cell_type": "code",
   "execution_count": 1,
   "metadata": {},
   "outputs": [
    {
     "name": "stdout",
     "output_type": "stream",
     "text": [
      "schroe51\n"
     ]
    }
   ],
   "source": [
    "#!echo $USER\n",
    "MIAMIID = !echo $USER\n",
    "MIAMIID = str(MIAMIID)\n",
    "MIAMIID = MIAMIID[2:len(MIAMIID)-2]\n",
    "print(MIAMIID)"
   ]
  },
  {
   "cell_type": "markdown",
   "metadata": {},
   "source": [
    "## If running this on RedHawk, use this download link for the toolkit\n",
    "- https://ftp-trace.ncbi.nlm.nih.gov/sra/sdk/3.0.0/sratoolkit.3.0.0-centos_linux64.tar.gz"
   ]
  },
  {
   "cell_type": "code",
   "execution_count": 2,
   "metadata": {
    "colab": {
     "base_uri": "https://localhost:8080/"
    },
    "id": "hdibbC5XVAoX",
    "outputId": "e18406e2-161f-46f3-cf31-54aefc544b28",
    "scrolled": true
   },
   "outputs": [
    {
     "name": "stdout",
     "output_type": "stream",
     "text": [
      "/home/schroe51/software\n",
      "--2022-11-10 12:01:17--  https://ftp-trace.ncbi.nlm.nih.gov/sra/sdk/3.0.0/sratoolkit.3.0.0-centos_linux64.tar.gz\n",
      "Resolving ftp-trace.ncbi.nlm.nih.gov... 130.14.250.10, 130.14.250.11, 2607:f220:41e:250::13, ...\n",
      "Connecting to ftp-trace.ncbi.nlm.nih.gov|130.14.250.10|:443... connected.\n",
      "HTTP request sent, awaiting response... 200 OK\n",
      "Length: 85777281 (82M) [application/x-gzip]\n",
      "Saving to: ‘sratoolkit.3.0.0-centos_linux64.tar.gz’\n",
      "\n",
      "sratoolkit.3.0.0-ce 100%[===================>]  81.80M  83.8MB/s    in 1.0s    \n",
      "\n",
      "2022-11-10 12:01:19 (83.8 MB/s) - ‘sratoolkit.3.0.0-centos_linux64.tar.gz’ saved [85777281/85777281]\n",
      "\n"
     ]
    }
   ],
   "source": [
    "!mkdir -p /home/{MIAMIID}/software\n",
    "%cd /home/{MIAMIID}/software\n",
    "!wget https://ftp-trace.ncbi.nlm.nih.gov/sra/sdk/3.0.0/sratoolkit.3.0.0-centos_linux64.tar.gz"
   ]
  },
  {
   "cell_type": "markdown",
   "metadata": {
    "id": "z7mGZZ12y5hI"
   },
   "source": [
    "Now we unzip the archive to get the programs we need."
   ]
  },
  {
   "cell_type": "code",
   "execution_count": 3,
   "metadata": {
    "colab": {
     "base_uri": "https://localhost:8080/"
    },
    "id": "dUxlxnLPV9oP",
    "outputId": "db59e210-d783-4792-e630-bcc9ee0271c7",
    "scrolled": true
   },
   "outputs": [
    {
     "name": "stdout",
     "output_type": "stream",
     "text": [
      "sratoolkit.3.0.0-centos_linux64/\n",
      "sratoolkit.3.0.0-centos_linux64/bin/\n",
      "sratoolkit.3.0.0-centos_linux64/bin/abi-dump\n",
      "sratoolkit.3.0.0-centos_linux64/bin/abi-dump.3\n",
      "sratoolkit.3.0.0-centos_linux64/bin/abi-load\n",
      "sratoolkit.3.0.0-centos_linux64/bin/abi-load.3\n",
      "sratoolkit.3.0.0-centos_linux64/bin/align-info\n",
      "sratoolkit.3.0.0-centos_linux64/bin/align-info.3\n",
      "sratoolkit.3.0.0-centos_linux64/bin/bam-load\n",
      "sratoolkit.3.0.0-centos_linux64/bin/bam-load.3\n",
      "sratoolkit.3.0.0-centos_linux64/bin/cache-mgr\n",
      "sratoolkit.3.0.0-centos_linux64/bin/cache-mgr.3\n",
      "sratoolkit.3.0.0-centos_linux64/bin/cg-load\n",
      "sratoolkit.3.0.0-centos_linux64/bin/cg-load.3\n",
      "sratoolkit.3.0.0-centos_linux64/bin/dump-ref-fasta\n",
      "sratoolkit.3.0.0-centos_linux64/bin/dump-ref-fasta.3\n",
      "sratoolkit.3.0.0-centos_linux64/bin/fasterq-dump\n",
      "sratoolkit.3.0.0-centos_linux64/bin/fasterq-dump.3\n",
      "sratoolkit.3.0.0-centos_linux64/bin/fasterq-dump.3.0.0\n",
      "sratoolkit.3.0.0-centos_linux64/bin/fastq-dump\n",
      "sratoolkit.3.0.0-centos_linux64/bin/fastq-dump.3\n",
      "sratoolkit.3.0.0-centos_linux64/bin/fastq-dump.3.0.0\n",
      "sratoolkit.3.0.0-centos_linux64/bin/fastq-load\n",
      "sratoolkit.3.0.0-centos_linux64/bin/fastq-load.3\n",
      "sratoolkit.3.0.0-centos_linux64/bin/helicos-load\n",
      "sratoolkit.3.0.0-centos_linux64/bin/helicos-load.3\n",
      "sratoolkit.3.0.0-centos_linux64/bin/illumina-dump\n",
      "sratoolkit.3.0.0-centos_linux64/bin/illumina-dump.3\n",
      "sratoolkit.3.0.0-centos_linux64/bin/illumina-load\n",
      "sratoolkit.3.0.0-centos_linux64/bin/illumina-load.3\n",
      "sratoolkit.3.0.0-centos_linux64/bin/kar\n",
      "sratoolkit.3.0.0-centos_linux64/bin/kar.3\n",
      "sratoolkit.3.0.0-centos_linux64/bin/kdbmeta\n",
      "sratoolkit.3.0.0-centos_linux64/bin/kdbmeta.3\n",
      "sratoolkit.3.0.0-centos_linux64/bin/latf-load\n",
      "sratoolkit.3.0.0-centos_linux64/bin/latf-load.3\n",
      "sratoolkit.3.0.0-centos_linux64/bin/pacbio-load\n",
      "sratoolkit.3.0.0-centos_linux64/bin/pacbio-load.3\n",
      "sratoolkit.3.0.0-centos_linux64/bin/prefetch\n",
      "sratoolkit.3.0.0-centos_linux64/bin/prefetch.3\n",
      "sratoolkit.3.0.0-centos_linux64/bin/prefetch.3.0.0\n",
      "sratoolkit.3.0.0-centos_linux64/bin/rcexplain\n",
      "sratoolkit.3.0.0-centos_linux64/bin/rcexplain.3\n",
      "sratoolkit.3.0.0-centos_linux64/bin/sam-dump\n",
      "sratoolkit.3.0.0-centos_linux64/bin/sam-dump.3\n",
      "sratoolkit.3.0.0-centos_linux64/bin/sam-dump.3.0.0\n",
      "sratoolkit.3.0.0-centos_linux64/bin/sff-dump\n",
      "sratoolkit.3.0.0-centos_linux64/bin/sff-dump.3\n",
      "sratoolkit.3.0.0-centos_linux64/bin/sff-load\n",
      "sratoolkit.3.0.0-centos_linux64/bin/sff-load.3\n",
      "sratoolkit.3.0.0-centos_linux64/bin/sra-pileup\n",
      "sratoolkit.3.0.0-centos_linux64/bin/sra-pileup.3\n",
      "sratoolkit.3.0.0-centos_linux64/bin/sra-pileup.3.0.0\n",
      "sratoolkit.3.0.0-centos_linux64/bin/sra-search\n",
      "sratoolkit.3.0.0-centos_linux64/bin/sra-search.3\n",
      "sratoolkit.3.0.0-centos_linux64/bin/sra-sort\n",
      "sratoolkit.3.0.0-centos_linux64/bin/sra-sort-cg\n",
      "sratoolkit.3.0.0-centos_linux64/bin/sra-sort-cg.3\n",
      "sratoolkit.3.0.0-centos_linux64/bin/sra-sort.3\n",
      "sratoolkit.3.0.0-centos_linux64/bin/sra-stat\n",
      "sratoolkit.3.0.0-centos_linux64/bin/sra-stat.3\n",
      "sratoolkit.3.0.0-centos_linux64/bin/srapath\n",
      "sratoolkit.3.0.0-centos_linux64/bin/srapath.3\n",
      "sratoolkit.3.0.0-centos_linux64/bin/srapath.3.0.0\n",
      "sratoolkit.3.0.0-centos_linux64/bin/srf-load\n",
      "sratoolkit.3.0.0-centos_linux64/bin/srf-load.3\n",
      "sratoolkit.3.0.0-centos_linux64/bin/test-sra\n",
      "sratoolkit.3.0.0-centos_linux64/bin/test-sra.3\n",
      "sratoolkit.3.0.0-centos_linux64/bin/vdb-config\n",
      "sratoolkit.3.0.0-centos_linux64/bin/vdb-config.3\n",
      "sratoolkit.3.0.0-centos_linux64/bin/vdb-copy\n",
      "sratoolkit.3.0.0-centos_linux64/bin/vdb-copy.3\n",
      "sratoolkit.3.0.0-centos_linux64/bin/vdb-decrypt\n",
      "sratoolkit.3.0.0-centos_linux64/bin/vdb-decrypt.3\n",
      "sratoolkit.3.0.0-centos_linux64/bin/vdb-dump\n",
      "sratoolkit.3.0.0-centos_linux64/bin/vdb-dump.3\n",
      "sratoolkit.3.0.0-centos_linux64/bin/vdb-dump.3.0.0\n",
      "sratoolkit.3.0.0-centos_linux64/bin/vdb-encrypt\n",
      "sratoolkit.3.0.0-centos_linux64/bin/vdb-encrypt.3\n",
      "sratoolkit.3.0.0-centos_linux64/bin/vdb-lock\n",
      "sratoolkit.3.0.0-centos_linux64/bin/vdb-lock.3\n",
      "sratoolkit.3.0.0-centos_linux64/bin/vdb-unlock\n",
      "sratoolkit.3.0.0-centos_linux64/bin/vdb-unlock.3\n",
      "sratoolkit.3.0.0-centos_linux64/bin/vdb-validate\n",
      "sratoolkit.3.0.0-centos_linux64/bin/vdb-validate.3\n",
      "sratoolkit.3.0.0-centos_linux64/bin/ncbi/\n",
      "sratoolkit.3.0.0-centos_linux64/bin/ncbi/certs.kfg\n",
      "sratoolkit.3.0.0-centos_linux64/bin/ncbi/default.kfg\n",
      "sratoolkit.3.0.0-centos_linux64/bin/ncbi/vdb-copy.kfg\n",
      "sratoolkit.3.0.0-centos_linux64/bin/srapath-orig.3.0.0\n",
      "sratoolkit.3.0.0-centos_linux64/bin/sratools.3.0.0\n",
      "sratoolkit.3.0.0-centos_linux64/bin/srf-load.3.0.0\n",
      "sratoolkit.3.0.0-centos_linux64/bin/test-sra.3.0.0\n",
      "sratoolkit.3.0.0-centos_linux64/bin/vdb-config.3.0.0\n",
      "sratoolkit.3.0.0-centos_linux64/bin/vdb-copy.3.0.0\n",
      "sratoolkit.3.0.0-centos_linux64/bin/vdb-decrypt.3.0.0\n",
      "sratoolkit.3.0.0-centos_linux64/bin/vdb-dump-orig.3.0.0\n",
      "sratoolkit.3.0.0-centos_linux64/bin/vdb-encrypt.3.0.0\n",
      "sratoolkit.3.0.0-centos_linux64/bin/vdb-lock.3.0.0\n",
      "sratoolkit.3.0.0-centos_linux64/bin/vdb-unlock.3.0.0\n",
      "sratoolkit.3.0.0-centos_linux64/bin/vdb-validate.3.0.0\n",
      "sratoolkit.3.0.0-centos_linux64/bin/abi-dump.3.0.0\n",
      "sratoolkit.3.0.0-centos_linux64/bin/abi-load.3.0.0\n",
      "sratoolkit.3.0.0-centos_linux64/bin/align-info.3.0.0\n",
      "sratoolkit.3.0.0-centos_linux64/bin/bam-load.3.0.0\n",
      "sratoolkit.3.0.0-centos_linux64/bin/cache-mgr.3.0.0\n",
      "sratoolkit.3.0.0-centos_linux64/bin/cg-load.3.0.0\n",
      "sratoolkit.3.0.0-centos_linux64/bin/dump-ref-fasta.3.0.0\n",
      "sratoolkit.3.0.0-centos_linux64/bin/fasterq-dump-orig.3.0.0\n",
      "sratoolkit.3.0.0-centos_linux64/bin/fastq-dump-orig.3.0.0\n",
      "sratoolkit.3.0.0-centos_linux64/bin/fastq-load.3.0.0\n",
      "sratoolkit.3.0.0-centos_linux64/bin/helicos-load.3.0.0\n",
      "sratoolkit.3.0.0-centos_linux64/bin/illumina-dump.3.0.0\n",
      "sratoolkit.3.0.0-centos_linux64/bin/illumina-load.3.0.0\n",
      "sratoolkit.3.0.0-centos_linux64/bin/kar.3.0.0\n",
      "sratoolkit.3.0.0-centos_linux64/bin/kdbmeta.3.0.0\n",
      "sratoolkit.3.0.0-centos_linux64/bin/latf-load.3.0.0\n",
      "sratoolkit.3.0.0-centos_linux64/bin/pacbio-load.3.0.0\n",
      "sratoolkit.3.0.0-centos_linux64/bin/prefetch-orig.3.0.0\n",
      "sratoolkit.3.0.0-centos_linux64/bin/rcexplain.3.0.0\n",
      "sratoolkit.3.0.0-centos_linux64/bin/sam-dump-orig.3.0.0\n",
      "sratoolkit.3.0.0-centos_linux64/bin/sff-dump.3.0.0\n",
      "sratoolkit.3.0.0-centos_linux64/bin/sff-load.3.0.0\n",
      "sratoolkit.3.0.0-centos_linux64/bin/sra-pileup-orig.3.0.0\n",
      "sratoolkit.3.0.0-centos_linux64/bin/sra-search.3.0.0\n",
      "sratoolkit.3.0.0-centos_linux64/bin/sra-sort-cg.3.0.0\n",
      "sratoolkit.3.0.0-centos_linux64/bin/sra-sort.3.0.0\n",
      "sratoolkit.3.0.0-centos_linux64/bin/sra-stat.3.0.0\n",
      "sratoolkit.3.0.0-centos_linux64/example/\n",
      "sratoolkit.3.0.0-centos_linux64/example/perl/\n",
      "sratoolkit.3.0.0-centos_linux64/example/perl/base-stats.pl\n",
      "sratoolkit.3.0.0-centos_linux64/example/perl/dump-reference.pl\n",
      "sratoolkit.3.0.0-centos_linux64/example/perl/gene-lookup.pl\n",
      "sratoolkit.3.0.0-centos_linux64/example/perl/mismatch-stats.pl\n",
      "sratoolkit.3.0.0-centos_linux64/example/perl/quality-stats.pl\n",
      "sratoolkit.3.0.0-centos_linux64/example/perl/simplefastq.pl\n",
      "sratoolkit.3.0.0-centos_linux64/example/perl/splitfastq.pl\n",
      "sratoolkit.3.0.0-centos_linux64/README-blastn\n",
      "sratoolkit.3.0.0-centos_linux64/README-vdb-config\n",
      "sratoolkit.3.0.0-centos_linux64/schema/\n",
      "sratoolkit.3.0.0-centos_linux64/schema/align/\n",
      "sratoolkit.3.0.0-centos_linux64/schema/align/align.vschema\n",
      "sratoolkit.3.0.0-centos_linux64/schema/align/mate-cache.vschema\n",
      "sratoolkit.3.0.0-centos_linux64/schema/align/pileup-stats.vschema\n",
      "sratoolkit.3.0.0-centos_linux64/schema/align/qstat.vschema\n",
      "sratoolkit.3.0.0-centos_linux64/schema/align/refseq.vschema\n",
      "sratoolkit.3.0.0-centos_linux64/schema/align/seq.vschema\n",
      "sratoolkit.3.0.0-centos_linux64/schema/csra2/\n",
      "sratoolkit.3.0.0-centos_linux64/schema/csra2/csra2.vschema\n",
      "sratoolkit.3.0.0-centos_linux64/schema/csra2/read.vschema\n",
      "sratoolkit.3.0.0-centos_linux64/schema/csra2/reference.vschema\n",
      "sratoolkit.3.0.0-centos_linux64/schema/csra2/stats.vschema\n",
      "sratoolkit.3.0.0-centos_linux64/schema/insdc/\n",
      "sratoolkit.3.0.0-centos_linux64/schema/insdc/insdc.vschema\n",
      "sratoolkit.3.0.0-centos_linux64/schema/insdc/seq.vschema\n",
      "sratoolkit.3.0.0-centos_linux64/schema/insdc/sra.vschema\n",
      "sratoolkit.3.0.0-centos_linux64/schema/ncbi/\n",
      "sratoolkit.3.0.0-centos_linux64/schema/ncbi/clip.vschema\n",
      "sratoolkit.3.0.0-centos_linux64/schema/ncbi/ncbi.vschema\n",
      "sratoolkit.3.0.0-centos_linux64/schema/ncbi/pnbrdb.vschema\n",
      "sratoolkit.3.0.0-centos_linux64/schema/ncbi/seq-graph.vschema\n",
      "sratoolkit.3.0.0-centos_linux64/schema/ncbi/seq.vschema\n",
      "sratoolkit.3.0.0-centos_linux64/schema/ncbi/spotname.vschema\n",
      "sratoolkit.3.0.0-centos_linux64/schema/ncbi/sra.vschema\n",
      "sratoolkit.3.0.0-centos_linux64/schema/ncbi/stats.vschema\n",
      "sratoolkit.3.0.0-centos_linux64/schema/ncbi/trace.vschema\n",
      "sratoolkit.3.0.0-centos_linux64/schema/ncbi/varloc.vschema\n",
      "sratoolkit.3.0.0-centos_linux64/schema/ncbi/wgs-contig.vschema\n",
      "sratoolkit.3.0.0-centos_linux64/schema/sra/\n",
      "sratoolkit.3.0.0-centos_linux64/schema/sra/454.vschema\n",
      "sratoolkit.3.0.0-centos_linux64/schema/sra/abi.vschema\n",
      "sratoolkit.3.0.0-centos_linux64/schema/sra/generic-fastq.vschema\n",
      "sratoolkit.3.0.0-centos_linux64/schema/sra/helicos.vschema\n",
      "sratoolkit.3.0.0-centos_linux64/schema/sra/illumina.vschema\n",
      "sratoolkit.3.0.0-centos_linux64/schema/sra/ion-torrent.vschema\n",
      "sratoolkit.3.0.0-centos_linux64/schema/sra/nanopore.vschema\n",
      "sratoolkit.3.0.0-centos_linux64/schema/sra/pacbio.vschema\n"
     ]
    },
    {
     "name": "stdout",
     "output_type": "stream",
     "text": [
      "sratoolkit.3.0.0-centos_linux64/schema/sra/pevents.vschema\r\n",
      "sratoolkit.3.0.0-centos_linux64/schema/vdb/\r\n",
      "sratoolkit.3.0.0-centos_linux64/schema/vdb/built-in.vschema\r\n",
      "sratoolkit.3.0.0-centos_linux64/schema/vdb/vdb.vschema\r\n",
      "sratoolkit.3.0.0-centos_linux64/CHANGES\r\n",
      "sratoolkit.3.0.0-centos_linux64/README.md\r\n"
     ]
    }
   ],
   "source": [
    "!tar xvfz sratoolkit.3.0.0-centos_linux64.tar.gz"
   ]
  },
  {
   "cell_type": "markdown",
   "metadata": {},
   "source": [
    "## Now we need to configure the toolkit using this command in the terminal: \"./sratoolkit.3.0.0-centos_linux64/bin/vdb-config --interactive\"\n",
    "\n",
    "Then press f, y, and confirm the default values."
   ]
  },
  {
   "cell_type": "markdown",
   "metadata": {},
   "source": [
    "# IMPORTANT FOR REDHAWK\n",
    "## We need to add the toolkit to the path (cannot be in .bashrc or it will not allow you to login to the server)"
   ]
  },
  {
   "cell_type": "code",
   "execution_count": 2,
   "metadata": {},
   "outputs": [
    {
     "name": "stdout",
     "output_type": "stream",
     "text": [
      "/home/schroe51/software/sratoolkit.3.0.0-centos_linux64/bin:/software/R/4.1.2/bin:/software/gcc/9.2.0/bin:/software/kallisto/0.48.0/bin:/software/python/anaconda3/condabin:/software/python/anaconda3/bin:/usr/local/bin:/usr/local/sbin:/opt/moab/bin:/usr/local/bin:/usr/local/sbin:/opt/moab/bin:/usr/local/sbin:/usr/local/bin:/usr/sbin:/usr/bin:/sbin:/bin:/bin:/usr/bin:/usr/X11R6/bin:/opt/puppetlabs/bin\n"
     ]
    }
   ],
   "source": [
    "curPath = %env PATH\n",
    "pathWithToolKit= \"/home/\" + MIAMIID + \"/software/sratoolkit.3.0.0-centos_linux64/bin:\" + curPath\n",
    "print(pathWithToolKit)"
   ]
  },
  {
   "cell_type": "code",
   "execution_count": 3,
   "metadata": {},
   "outputs": [],
   "source": [
    "import os\n",
    "os.environ['PATH'] = pathWithToolKit"
   ]
  },
  {
   "cell_type": "code",
   "execution_count": 4,
   "metadata": {},
   "outputs": [
    {
     "data": {
      "text/plain": [
       "'/home/schroe51/software/sratoolkit.3.0.0-centos_linux64/bin:/software/R/4.1.2/bin:/software/gcc/9.2.0/bin:/software/kallisto/0.48.0/bin:/software/python/anaconda3/condabin:/software/python/anaconda3/bin:/usr/local/bin:/usr/local/sbin:/opt/moab/bin:/usr/local/bin:/usr/local/sbin:/opt/moab/bin:/usr/local/sbin:/usr/local/bin:/usr/sbin:/usr/bin:/sbin:/bin:/bin:/usr/bin:/usr/X11R6/bin:/opt/puppetlabs/bin'"
      ]
     },
     "execution_count": 4,
     "metadata": {},
     "output_type": "execute_result"
    }
   ],
   "source": [
    "%env PATH"
   ]
  },
  {
   "cell_type": "markdown",
   "metadata": {
    "id": "dM9RaLrUzEkr"
   },
   "source": [
    "Now we need to download sequences, in this example: PRJNA353374 from [SRA](https://www.ncbi.nlm.nih.gov/sra) (I am not sure how use wget to get the file as a result of hitting the button)"
   ]
  },
  {
   "cell_type": "code",
   "execution_count": 5,
   "metadata": {
    "colab": {
     "base_uri": "https://localhost:8080/"
    },
    "id": "r6qk1dPzM3In",
    "outputId": "371285bb-e221-454b-936c-245d6ce50ec4"
   },
   "outputs": [
    {
     "name": "stdout",
     "output_type": "stream",
     "text": [
      "/home/schroe51/test\n"
     ]
    }
   ],
   "source": [
    "%cd /home/{MIAMIID}/test/\n",
    "#!wget https://www.ncbi.nlm.nih.gov/Traces/study/?acc=SRP093363&o=acc_s%3Aa"
   ]
  },
  {
   "cell_type": "code",
   "execution_count": 6,
   "metadata": {
    "colab": {
     "base_uri": "https://localhost:8080/"
    },
    "id": "ybygUG5iWM1s",
    "outputId": "0d95acd5-cad4-41e1-d6dd-1992510c4902",
    "scrolled": false
   },
   "outputs": [
    {
     "name": "stdout",
     "output_type": "stream",
     "text": [
      "notebooks  SraRunTable.txt\r\n"
     ]
    }
   ],
   "source": [
    "!ls"
   ]
  },
  {
   "cell_type": "code",
   "execution_count": 7,
   "metadata": {
    "colab": {
     "base_uri": "https://localhost:8080/"
    },
    "id": "K0ObFZq1eNFT",
    "outputId": "dd376a4f-c174-41ea-aabc-b330e14bae5f",
    "scrolled": true
   },
   "outputs": [
    {
     "name": "stdout",
     "output_type": "stream",
     "text": [
      "Run,Assay Type,AvgSpotLen,Bases,BioProject,BioSample,Bytes,Cell_type,Center Name,Consent,DATASTORE filetype,DATASTORE provider,DATASTORE region,Experiment,Genotype,Instrument,Library Name,LibraryLayout,LibrarySelection,LibrarySource,Organism,Platform,ReleaseDate,create_date,version,Sample Name,source_name,SRA Study,TISSUE\r\n",
      "SRR24062652,RNA-Seq,200,6933811600,PRJNA839243,SAMN34067627,4605476482,hematopoietic stem/progenitor cells (LSK),NANKAI UNIVERSITY,public,\"fastq,sra\",\"gs,ncbi,s3\",\"gs.US,ncbi.public,s3.us-east-1\",SRX19863979,KO,Illumina HiSeq 4000,GSM7142617,PAIRED,cDNA,TRANSCRIPTOMIC,Mus musculus,ILLUMINA,2023-04-04T00:00:00Z,2023-04-04T11:25:00Z,1,GSM7142617,bone marrow,SRP375815,bone marrow\r\n",
      "SRR24062653,RNA-Seq,200,7057897800,PRJNA839243,SAMN34067628,4619021770,hematopoietic stem/progenitor cells (LSK),NANKAI UNIVERSITY,public,\"fastq,sra\",\"gs,ncbi,s3\",\"gs.US,ncbi.public,s3.us-east-1\",SRX19863978,KO,Illumina HiSeq 4000,GSM7142616,PAIRED,cDNA,TRANSCRIPTOMIC,Mus musculus,ILLUMINA,2023-04-04T00:00:00Z,2023-04-04T11:27:00Z,1,GSM7142616,bone marrow,SRP375815,bone marrow\r\n",
      "SRR24062654,RNA-Seq,200,6985614800,PRJNA839243,SAMN34067629,4625286957,hematopoietic stem/progenitor cells (LSK),NANKAI UNIVERSITY,public,\"fastq,sra\",\"gs,ncbi,s3\",\"gs.US,ncbi.public,s3.us-east-1\",SRX19863977,KO,Illumina HiSeq 4000,GSM7142615,PAIRED,cDNA,TRANSCRIPTOMIC,Mus musculus,ILLUMINA,2023-04-04T00:00:00Z,2023-04-04T11:25:00Z,1,GSM7142615,bone marrow,SRP375815,bone marrow\r\n"
     ]
    }
   ],
   "source": [
    "!head -n4 SraRunTable.txt"
   ]
  },
  {
   "cell_type": "markdown",
   "metadata": {
    "id": "PkVxDfyt7khP"
   },
   "source": [
    "Names of the Sequence sra files."
   ]
  },
  {
   "cell_type": "code",
   "execution_count": 13,
   "metadata": {
    "colab": {
     "base_uri": "https://localhost:8080/"
    },
    "id": "jwwiy3JD5Yja",
    "outputId": "111b79ad-4fa5-47d1-b8fc-2fa613035af9"
   },
   "outputs": [
    {
     "name": "stdout",
     "output_type": "stream",
     "text": [
      "Run\r\n",
      "SRR24062652\r\n",
      "SRR24062653\r\n",
      "SRR24062654\r\n",
      "SRR24062655\r\n",
      "SRR24062656\r\n",
      "SRR24062657\r\n"
     ]
    }
   ],
   "source": [
    "!cut -d',' -f1 SraRunTable.txt"
   ]
  },
  {
   "cell_type": "markdown",
   "metadata": {
    "id": "jGB-oCdM7sOO"
   },
   "source": [
    "Names and descriptions of the sra files."
   ]
  },
  {
   "cell_type": "code",
   "execution_count": 14,
   "metadata": {
    "colab": {
     "base_uri": "https://localhost:8080/"
    },
    "id": "te-qy7yK5jfZ",
    "outputId": "6daa5842-3979-495a-d9db-a86e2d6bb622"
   },
   "outputs": [
    {
     "name": "stdout",
     "output_type": "stream",
     "text": [
      "Run,LibrarySource\r\n",
      "SRR24062652,KO\r\n",
      "SRR24062653,KO\r\n",
      "SRR24062654,KO\r\n",
      "SRR24062655,WT\r\n",
      "SRR24062656,WT\r\n",
      "SRR24062657,WT\r\n"
     ]
    }
   ],
   "source": [
    "!cut -d',' -f1,20 SraRunTable.txt"
   ]
  },
  {
   "cell_type": "markdown",
   "metadata": {
    "id": "fD3DD7TJ8KPU"
   },
   "source": [
    "Now we can put these IDs in our own file to use for analysis."
   ]
  },
  {
   "cell_type": "code",
   "execution_count": 15,
   "metadata": {
    "id": "znt5PHDP8JrG"
   },
   "outputs": [],
   "source": [
    "!cut -d',' -f1,20 SraRunTable.txt|grep \"WT\"|cut -d',' -f1 >> finalsamples.txt"
   ]
  },
  {
   "cell_type": "code",
   "execution_count": 16,
   "metadata": {
    "id": "GDpWUJS9B28P"
   },
   "outputs": [],
   "source": [
    "!cut -d',' -f1,20 SraRunTable.txt|grep \"KO\"|cut -d',' -f1 >> finalsamples.txt"
   ]
  },
  {
   "cell_type": "markdown",
   "metadata": {
    "id": "mXswNtPLCPrl"
   },
   "source": [
    "# Now we have our list of high-fat diet mice sra IDs!"
   ]
  },
  {
   "cell_type": "code",
   "execution_count": 17,
   "metadata": {
    "colab": {
     "base_uri": "https://localhost:8080/"
    },
    "id": "IJ9Ew4guCJV2",
    "outputId": "bd6eda6f-d8ab-4171-c395-6bec5178e4e9"
   },
   "outputs": [
    {
     "name": "stdout",
     "output_type": "stream",
     "text": [
      "/home/schroe51/test\n",
      "SRR24062655\r\n",
      "SRR24062656\r\n",
      "SRR24062657\r\n",
      "SRR24062652\r\n",
      "SRR24062653\r\n",
      "SRR24062654\r\n"
     ]
    }
   ],
   "source": [
    "%cd /home/{MIAMIID}/test\n",
    "!cat finalsamples.txt"
   ]
  },
  {
   "cell_type": "markdown",
   "metadata": {
    "id": "R4TAH-TcGVtr"
   },
   "source": [
    "# Now we can use the SRA Toolkit to download the sra data! \n",
    "NOTE: THIS WILL TAKE A LONG TIME, THIS EXAMPLE IS 20GB OF DATA"
   ]
  },
  {
   "cell_type": "code",
   "execution_count": 18,
   "metadata": {},
   "outputs": [],
   "source": [
    "%mkdir -p /home/{MIAMIID}/test/raw_data"
   ]
  },
  {
   "cell_type": "code",
   "execution_count": 19,
   "metadata": {},
   "outputs": [
    {
     "name": "stdout",
     "output_type": "stream",
     "text": [
      "/home/schroe51/test/raw_data\n"
     ]
    }
   ],
   "source": [
    "%cd /home/{MIAMIID}/test/raw_data"
   ]
  },
  {
   "cell_type": "code",
   "execution_count": 24,
   "metadata": {
    "colab": {
     "base_uri": "https://localhost:8080/"
    },
    "id": "6l7JlrNSCXhp",
    "outputId": "23b0ca0b-b8d3-4a4e-da5e-ca322baf518f"
   },
   "outputs": [],
   "source": [
    "# You could create your own `finalsamples.txt` file \n",
    "# This file would be a list of SRA sample accessions \n",
    "# with one accession (e.g. SRS179109) per line \n",
    "# running this cell will allow you to do the SRA import\n",
    "\n",
    "sh = \"\"\"\n",
    "while read line; do prefetch $line ; done< /home/\"\"\" + MIAMIID + \"\"\"/test/finalsamples.txt\n",
    "\"\"\"\n",
    "with open('importSraData.sh', 'w') as file:\n",
    "  file.write(sh)"
   ]
  },
  {
   "cell_type": "code",
   "execution_count": 25,
   "metadata": {},
   "outputs": [
    {
     "name": "stdout",
     "output_type": "stream",
     "text": [
      "raw_data contents:\n",
      "importSraData.sh\n",
      "\n",
      "2023-04-13T18:06:39 prefetch.3.0.0: Current preference is set to retrieve SRA Normalized Format files with full base quality scores.\n",
      "2023-04-13T18:06:39 prefetch.3.0.0: 1) Downloading 'SRR24062655'...\n",
      "2023-04-13T18:06:39 prefetch.3.0.0: SRA Normalized Format file is being retrieved, if this is different from your preference, it may be due to current file availability.\n",
      "2023-04-13T18:06:39 prefetch.3.0.0:  Downloading via HTTPS...\n",
      "2023-04-13T18:08:59 prefetch.3.0.0:  HTTPS download succeed\n",
      "2023-04-13T18:09:10 prefetch.3.0.0:  'SRR24062655' is valid\n",
      "2023-04-13T18:09:10 prefetch.3.0.0: 1) 'SRR24062655' was downloaded successfully\n",
      "\n",
      "2023-04-13T18:09:11 prefetch.3.0.0: Current preference is set to retrieve SRA Normalized Format files with full base quality scores.\n",
      "2023-04-13T18:09:11 prefetch.3.0.0: 1) Downloading 'SRR24062656'...\n",
      "2023-04-13T18:09:11 prefetch.3.0.0: SRA Normalized Format file is being retrieved, if this is different from your preference, it may be due to current file availability.\n",
      "2023-04-13T18:09:11 prefetch.3.0.0:  Downloading via HTTPS...\n",
      "2023-04-13T18:11:55 prefetch.3.0.0:  HTTPS download succeed\n",
      "2023-04-13T18:12:09 prefetch.3.0.0:  'SRR24062656' is valid\n",
      "2023-04-13T18:12:09 prefetch.3.0.0: 1) 'SRR24062656' was downloaded successfully\n",
      "\n",
      "2023-04-13T18:12:10 prefetch.3.0.0: Current preference is set to retrieve SRA Normalized Format files with full base quality scores.\n",
      "2023-04-13T18:12:10 prefetch.3.0.0: 1) Downloading 'SRR24062657'...\n",
      "2023-04-13T18:12:10 prefetch.3.0.0: SRA Normalized Format file is being retrieved, if this is different from your preference, it may be due to current file availability.\n",
      "2023-04-13T18:12:10 prefetch.3.0.0:  Downloading via HTTPS...\n",
      "2023-04-13T18:14:41 prefetch.3.0.0:  HTTPS download succeed\n",
      "2023-04-13T18:14:52 prefetch.3.0.0:  'SRR24062657' is valid\n",
      "2023-04-13T18:14:52 prefetch.3.0.0: 1) 'SRR24062657' was downloaded successfully\n",
      "\n",
      "2023-04-13T18:14:53 prefetch.3.0.0: Current preference is set to retrieve SRA Normalized Format files with full base quality scores.\n",
      "2023-04-13T18:14:53 prefetch.3.0.0: 1) Downloading 'SRR24062652'...\n",
      "2023-04-13T18:14:53 prefetch.3.0.0: SRA Normalized Format file is being retrieved, if this is different from your preference, it may be due to current file availability.\n",
      "2023-04-13T18:14:53 prefetch.3.0.0:  Downloading via HTTPS...\n",
      "2023-04-13T18:17:26 prefetch.3.0.0:  HTTPS download succeed\n",
      "2023-04-13T18:17:37 prefetch.3.0.0:  'SRR24062652' is valid\n",
      "2023-04-13T18:17:37 prefetch.3.0.0: 1) 'SRR24062652' was downloaded successfully\n",
      "\n",
      "2023-04-13T18:17:38 prefetch.3.0.0: Current preference is set to retrieve SRA Normalized Format files with full base quality scores.\n",
      "2023-04-13T18:17:38 prefetch.3.0.0: 1) Downloading 'SRR24062653'...\n",
      "2023-04-13T18:17:38 prefetch.3.0.0: SRA Normalized Format file is being retrieved, if this is different from your preference, it may be due to current file availability.\n",
      "2023-04-13T18:17:38 prefetch.3.0.0:  Downloading via HTTPS...\n",
      "2023-04-13T18:20:10 prefetch.3.0.0:  HTTPS download succeed\n",
      "2023-04-13T18:20:24 prefetch.3.0.0:  'SRR24062653' is valid\n",
      "2023-04-13T18:20:24 prefetch.3.0.0: 1) 'SRR24062653' was downloaded successfully\n",
      "\n",
      "2023-04-13T18:20:25 prefetch.3.0.0: Current preference is set to retrieve SRA Normalized Format files with full base quality scores.\n",
      "2023-04-13T18:20:25 prefetch.3.0.0: 1) Downloading 'SRR24062654'...\n",
      "2023-04-13T18:20:25 prefetch.3.0.0: SRA Normalized Format file is being retrieved, if this is different from your preference, it may be due to current file availability.\n",
      "2023-04-13T18:20:25 prefetch.3.0.0:  Downloading via HTTPS...\n",
      "2023-04-13T18:23:12 prefetch.3.0.0:  HTTPS download succeed\n",
      "2023-04-13T18:23:30 prefetch.3.0.0:  'SRR24062654' is valid\n",
      "2023-04-13T18:23:30 prefetch.3.0.0: 1) 'SRR24062654' was downloaded successfully\n"
     ]
    }
   ],
   "source": [
    "print(\"raw_data contents:\")\n",
    "!ls\n",
    "!bash importSraData.sh"
   ]
  },
  {
   "cell_type": "code",
   "execution_count": 26,
   "metadata": {
    "id": "GbsTFtrWEQn7",
    "scrolled": false
   },
   "outputs": [
    {
     "name": "stdout",
     "output_type": "stream",
     "text": [
      "importSraData.sh  SRR24062653  SRR24062655  SRR24062657\r\n",
      "SRR24062652\t  SRR24062654  SRR24062656\r\n"
     ]
    }
   ],
   "source": [
    "!ls"
   ]
  },
  {
   "cell_type": "markdown",
   "metadata": {},
   "source": [
    "# We now have the raw data and now need to convert it to fastq format using parallel-fastq-dump"
   ]
  },
  {
   "cell_type": "markdown",
   "metadata": {},
   "source": [
    "# Important:\n",
    "\n",
    "You now need to download the parallel-fastq-dump package with the following command in the terminal:\n",
    "\n",
    "## pip install parallel-fastq-dump\n",
    "\n",
    "## Now we need to add the program to the path"
   ]
  },
  {
   "cell_type": "code",
   "execution_count": 27,
   "metadata": {},
   "outputs": [
    {
     "name": "stdout",
     "output_type": "stream",
     "text": [
      "/home/schroe51/.local/bin:/home/schroe51/software/sratoolkit.3.0.0-centos_linux64/bin:/software/R/4.1.2/bin:/software/gcc/9.2.0/bin:/software/kallisto/0.48.0/bin:/software/python/anaconda3/condabin:/software/python/anaconda3/bin:/usr/local/bin:/usr/local/sbin:/opt/moab/bin:/usr/local/bin:/usr/local/sbin:/opt/moab/bin:/usr/local/sbin:/usr/local/bin:/usr/sbin:/usr/bin:/sbin:/bin:/bin:/usr/bin:/usr/X11R6/bin:/opt/puppetlabs/bin\n"
     ]
    }
   ],
   "source": [
    "curPath = %env PATH\n",
    "pathWithparallelfastq= \"/home/\" + MIAMIID + \"/.local/bin:\" + curPath\n",
    "print(pathWithparallelfastq)"
   ]
  },
  {
   "cell_type": "code",
   "execution_count": 28,
   "metadata": {},
   "outputs": [],
   "source": [
    "import os\n",
    "os.environ['PATH'] = pathWithparallelfastq"
   ]
  },
  {
   "cell_type": "code",
   "execution_count": 29,
   "metadata": {},
   "outputs": [
    {
     "data": {
      "text/plain": [
       "'/home/schroe51/.local/bin:/home/schroe51/software/sratoolkit.3.0.0-centos_linux64/bin:/software/R/4.1.2/bin:/software/gcc/9.2.0/bin:/software/kallisto/0.48.0/bin:/software/python/anaconda3/condabin:/software/python/anaconda3/bin:/usr/local/bin:/usr/local/sbin:/opt/moab/bin:/usr/local/bin:/usr/local/sbin:/opt/moab/bin:/usr/local/sbin:/usr/local/bin:/usr/sbin:/usr/bin:/sbin:/bin:/bin:/usr/bin:/usr/X11R6/bin:/opt/puppetlabs/bin'"
      ]
     },
     "execution_count": 29,
     "metadata": {},
     "output_type": "execute_result"
    }
   ],
   "source": [
    "%env PATH"
   ]
  },
  {
   "cell_type": "code",
   "execution_count": 30,
   "metadata": {},
   "outputs": [
    {
     "name": "stdout",
     "output_type": "stream",
     "text": [
      "/home/schroe51/test/raw_data/fastq\n"
     ]
    }
   ],
   "source": [
    "!mkdir -p /home/{MIAMIID}/test/raw_data/fastq\n",
    "%cd /home/{MIAMIID}/test/raw_data/fastq"
   ]
  },
  {
   "cell_type": "code",
   "execution_count": 31,
   "metadata": {
    "scrolled": true
   },
   "outputs": [
    {
     "name": "stdout",
     "output_type": "stream",
     "text": [
      "24\n"
     ]
    }
   ],
   "source": [
    "import os\n",
    "numOfCPUs = len(os.sched_getaffinity(0))\n",
    "print(numOfCPUs)"
   ]
  },
  {
   "cell_type": "code",
   "execution_count": 32,
   "metadata": {},
   "outputs": [],
   "source": [
    "sh = \"\"\"\n",
    "while read line; do parallel-fastq-dump --sra-id $line --threads \"\"\"+str(numOfCPUs)+\"\"\" --outdir fastq --gzip ; done< /home/\"\"\"+MIAMIID+\"\"\"/test/finalsamples.txt\n",
    "\"\"\"\n",
    "with open('getFastqData.sh', 'w') as file:\n",
    "  file.write(sh)"
   ]
  },
  {
   "cell_type": "markdown",
   "metadata": {},
   "source": [
    "# IMPORTANT, THIS WILL TAKE A LONG TIME AND TAKE A LOT OF SPACE"
   ]
  },
  {
   "cell_type": "code",
   "execution_count": 33,
   "metadata": {
    "scrolled": true
   },
   "outputs": [
    {
     "name": "stdout",
     "output_type": "stream",
     "text": [
      "fastq contents:\n",
      "/home/schroe51/test/raw_data\n",
      "getFastqData.sh\n",
      "SRR ids: ['SRR24062655']\n",
      "extra args: ['--gzip']\n",
      "tempdir: /tmp/pfd_u467zm_2\n",
      "SRR24062655 spots: 34237253\n",
      "blocks: [[1, 1426552], [1426553, 2853104], [2853105, 4279656], [4279657, 5706208], [5706209, 7132760], [7132761, 8559312], [8559313, 9985864], [9985865, 11412416], [11412417, 12838968], [12838969, 14265520], [14265521, 15692072], [15692073, 17118624], [17118625, 18545176], [18545177, 19971728], [19971729, 21398280], [21398281, 22824832], [22824833, 24251384], [24251385, 25677936], [25677937, 27104488], [27104489, 28531040], [28531041, 29957592], [29957593, 31384144], [31384145, 32810696], [32810697, 34237253]]\n",
      "Read 1426552 spots for SRR24062655\n",
      "Written 1426552 spots for SRR24062655\n",
      "Read 1426552 spots for SRR24062655\n",
      "Written 1426552 spots for SRR24062655\n",
      "Read 1426552 spots for SRR24062655\n",
      "Written 1426552 spots for SRR24062655\n",
      "Read 1426552 spots for SRR24062655\n",
      "Written 1426552 spots for SRR24062655\n",
      "Read 1426552 spots for SRR24062655\n",
      "Written 1426552 spots for SRR24062655\n",
      "Read 1426557 spots for SRR24062655\n",
      "Written 1426557 spots for SRR24062655\n",
      "Read 1426552 spots for SRR24062655\n",
      "Written 1426552 spots for SRR24062655\n",
      "Read 1426552 spots for SRR24062655\n",
      "Written 1426552 spots for SRR24062655\n",
      "Read 1426552 spots for SRR24062655\n",
      "Written 1426552 spots for SRR24062655\n",
      "Read 1426552 spots for SRR24062655\n",
      "Written 1426552 spots for SRR24062655\n",
      "Read 1426552 spots for SRR24062655\n",
      "Written 1426552 spots for SRR24062655\n",
      "Read 1426552 spots for SRR24062655\n",
      "Written 1426552 spots for SRR24062655\n",
      "Read 1426552 spots for SRR24062655\n",
      "Written 1426552 spots for SRR24062655\n",
      "Read 1426552 spots for SRR24062655\n",
      "Written 1426552 spots for SRR24062655\n",
      "Read 1426552 spots for SRR24062655\n",
      "Written 1426552 spots for SRR24062655\n",
      "Read 1426552 spots for SRR24062655\n",
      "Written 1426552 spots for SRR24062655\n",
      "Read 1426552 spots for SRR24062655\n",
      "Written 1426552 spots for SRR24062655\n",
      "Read 1426552 spots for SRR24062655\n",
      "Written 1426552 spots for SRR24062655\n",
      "Read 1426552 spots for SRR24062655\n",
      "Written 1426552 spots for SRR24062655\n",
      "Read 1426552 spots for SRR24062655\n",
      "Written 1426552 spots for SRR24062655\n",
      "Read 1426552 spots for SRR24062655\n",
      "Written 1426552 spots for SRR24062655\n",
      "Read 1426552 spots for SRR24062655\n",
      "Written 1426552 spots for SRR24062655\n",
      "Read 1426552 spots for SRR24062655\n",
      "Written 1426552 spots for SRR24062655\n",
      "Read 1426552 spots for SRR24062655\n",
      "Written 1426552 spots for SRR24062655\n",
      "SRR ids: ['SRR24062656']\n",
      "extra args: ['--gzip']\n",
      "tempdir: /tmp/pfd_0oq1vyh8\n",
      "SRR24062656 spots: 35400482\n",
      "blocks: [[1, 1475020], [1475021, 2950040], [2950041, 4425060], [4425061, 5900080], [5900081, 7375100], [7375101, 8850120], [8850121, 10325140], [10325141, 11800160], [11800161, 13275180], [13275181, 14750200], [14750201, 16225220], [16225221, 17700240], [17700241, 19175260], [19175261, 20650280], [20650281, 22125300], [22125301, 23600320], [23600321, 25075340], [25075341, 26550360], [26550361, 28025380], [28025381, 29500400], [29500401, 30975420], [30975421, 32450440], [32450441, 33925460], [33925461, 35400482]]\n",
      "Read 1475020 spots for SRR24062656\n",
      "Written 1475020 spots for SRR24062656\n",
      "Read 1475020 spots for SRR24062656\n",
      "Written 1475020 spots for SRR24062656\n",
      "Read 1475020 spots for SRR24062656\n",
      "Written 1475020 spots for SRR24062656\n",
      "Read 1475020 spots for SRR24062656\n",
      "Written 1475020 spots for SRR24062656\n",
      "Read 1475020 spots for SRR24062656\n",
      "Written 1475020 spots for SRR24062656\n",
      "Read 1475020 spots for SRR24062656\n",
      "Written 1475020 spots for SRR24062656\n",
      "Read 1475020 spots for SRR24062656\n",
      "Written 1475020 spots for SRR24062656\n",
      "Read 1475020 spots for SRR24062656\n",
      "Written 1475020 spots for SRR24062656\n",
      "Read 1475020 spots for SRR24062656\n",
      "Written 1475020 spots for SRR24062656\n",
      "Read 1475020 spots for SRR24062656\n",
      "Written 1475020 spots for SRR24062656\n",
      "Read 1475020 spots for SRR24062656\n",
      "Written 1475020 spots for SRR24062656\n",
      "Read 1475020 spots for SRR24062656\n",
      "Written 1475020 spots for SRR24062656\n",
      "Read 1475020 spots for SRR24062656\n",
      "Written 1475020 spots for SRR24062656\n",
      "Read 1475020 spots for SRR24062656\n",
      "Written 1475020 spots for SRR24062656\n",
      "Read 1475020 spots for SRR24062656\n",
      "Written 1475020 spots for SRR24062656\n",
      "Read 1475020 spots for SRR24062656\n",
      "Written 1475020 spots for SRR24062656\n",
      "Read 1475020 spots for SRR24062656\n",
      "Written 1475020 spots for SRR24062656\n",
      "Read 1475020 spots for SRR24062656\n",
      "Written 1475020 spots for SRR24062656\n",
      "Read 1475020 spots for SRR24062656\n",
      "Written 1475020 spots for SRR24062656\n",
      "Read 1475022 spots for SRR24062656\n",
      "Written 1475022 spots for SRR24062656\n",
      "Read 1475020 spots for SRR24062656\n",
      "Written 1475020 spots for SRR24062656\n",
      "Read 1475020 spots for SRR24062656\n",
      "Written 1475020 spots for SRR24062656\n",
      "Read 1475020 spots for SRR24062656\n",
      "Written 1475020 spots for SRR24062656\n",
      "Read 1475020 spots for SRR24062656\n",
      "Written 1475020 spots for SRR24062656\n",
      "SRR ids: ['SRR24062657']\n",
      "extra args: ['--gzip']\n",
      "tempdir: /tmp/pfd_nk71vsvi\n",
      "SRR24062657 spots: 34487720\n",
      "blocks: [[1, 1436988], [1436989, 2873976], [2873977, 4310964], [4310965, 5747952], [5747953, 7184940], [7184941, 8621928], [8621929, 10058916], [10058917, 11495904], [11495905, 12932892], [12932893, 14369880], [14369881, 15806868], [15806869, 17243856], [17243857, 18680844], [18680845, 20117832], [20117833, 21554820], [21554821, 22991808], [22991809, 24428796], [24428797, 25865784], [25865785, 27302772], [27302773, 28739760], [28739761, 30176748], [30176749, 31613736], [31613737, 33050724], [33050725, 34487720]]\n",
      "Read 1436988 spots for SRR24062657\n",
      "Written 1436988 spots for SRR24062657\n",
      "Read 1436988 spots for SRR24062657\n",
      "Written 1436988 spots for SRR24062657\n",
      "Read 1436988 spots for SRR24062657\n",
      "Written 1436988 spots for SRR24062657\n",
      "Read 1436988 spots for SRR24062657\n",
      "Written 1436988 spots for SRR24062657\n",
      "Read 1436988 spots for SRR24062657\n",
      "Written 1436988 spots for SRR24062657\n",
      "Read 1436988 spots for SRR24062657\n",
      "Written 1436988 spots for SRR24062657\n",
      "Read 1436988 spots for SRR24062657\n",
      "Written 1436988 spots for SRR24062657\n",
      "Read 1436988 spots for SRR24062657\n",
      "Written 1436988 spots for SRR24062657\n",
      "Read 1436988 spots for SRR24062657\n",
      "Written 1436988 spots for SRR24062657\n",
      "Read 1436996 spots for SRR24062657\n",
      "Written 1436996 spots for SRR24062657\n",
      "Read 1436988 spots for SRR24062657\n",
      "Written 1436988 spots for SRR24062657\n",
      "Read 1436988 spots for SRR24062657\n",
      "Written 1436988 spots for SRR24062657\n",
      "Read 1436988 spots for SRR24062657\n",
      "Written 1436988 spots for SRR24062657\n",
      "Read 1436988 spots for SRR24062657\n",
      "Written 1436988 spots for SRR24062657\n",
      "Read 1436988 spots for SRR24062657\n",
      "Written 1436988 spots for SRR24062657\n",
      "Read 1436988 spots for SRR24062657\n",
      "Written 1436988 spots for SRR24062657\n",
      "Read 1436988 spots for SRR24062657\n",
      "Written 1436988 spots for SRR24062657\n",
      "Read 1436988 spots for SRR24062657\n",
      "Written 1436988 spots for SRR24062657\n",
      "Read 1436988 spots for SRR24062657\n",
      "Written 1436988 spots for SRR24062657\n",
      "Read 1436988 spots for SRR24062657\n",
      "Written 1436988 spots for SRR24062657\n",
      "Read 1436988 spots for SRR24062657\n",
      "Written 1436988 spots for SRR24062657\n",
      "Read 1436988 spots for SRR24062657\n",
      "Written 1436988 spots for SRR24062657\n",
      "Read 1436988 spots for SRR24062657\n",
      "Written 1436988 spots for SRR24062657\n",
      "Read 1436988 spots for SRR24062657\n",
      "Written 1436988 spots for SRR24062657\n",
      "SRR ids: ['SRR24062652']\n",
      "extra args: ['--gzip']\n",
      "tempdir: /tmp/pfd_f502wc78\n",
      "SRR24062652 spots: 34669058\n",
      "blocks: [[1, 1444544], [1444545, 2889088], [2889089, 4333632], [4333633, 5778176], [5778177, 7222720], [7222721, 8667264], [8667265, 10111808], [10111809, 11556352], [11556353, 13000896], [13000897, 14445440], [14445441, 15889984], [15889985, 17334528], [17334529, 18779072], [18779073, 20223616], [20223617, 21668160], [21668161, 23112704], [23112705, 24557248], [24557249, 26001792], [26001793, 27446336], [27446337, 28890880], [28890881, 30335424], [30335425, 31779968], [31779969, 33224512], [33224513, 34669058]]\n",
      "Read 1444544 spots for SRR24062652\n",
      "Written 1444544 spots for SRR24062652\n",
      "Read 1444544 spots for SRR24062652\n",
      "Written 1444544 spots for SRR24062652\n",
      "Read 1444544 spots for SRR24062652\n",
      "Written 1444544 spots for SRR24062652\n",
      "Read 1444544 spots for SRR24062652\n",
      "Written 1444544 spots for SRR24062652\n",
      "Read 1444544 spots for SRR24062652\n",
      "Written 1444544 spots for SRR24062652\n",
      "Read 1444544 spots for SRR24062652\n",
      "Written 1444544 spots for SRR24062652\n"
     ]
    },
    {
     "name": "stdout",
     "output_type": "stream",
     "text": [
      "Read 1444544 spots for SRR24062652\n",
      "Written 1444544 spots for SRR24062652\n",
      "Read 1444544 spots for SRR24062652\n",
      "Written 1444544 spots for SRR24062652\n",
      "Read 1444544 spots for SRR24062652\n",
      "Written 1444544 spots for SRR24062652\n",
      "Read 1444544 spots for SRR24062652\n",
      "Written 1444544 spots for SRR24062652\n",
      "Read 1444544 spots for SRR24062652\n",
      "Written 1444544 spots for SRR24062652\n",
      "Read 1444544 spots for SRR24062652\n",
      "Written 1444544 spots for SRR24062652\n",
      "Read 1444544 spots for SRR24062652\n",
      "Written 1444544 spots for SRR24062652\n",
      "Read 1444544 spots for SRR24062652\n",
      "Written 1444544 spots for SRR24062652\n",
      "Read 1444544 spots for SRR24062652\n",
      "Written 1444544 spots for SRR24062652\n",
      "Read 1444544 spots for SRR24062652\n",
      "Written 1444544 spots for SRR24062652\n",
      "Read 1444544 spots for SRR24062652\n",
      "Written 1444544 spots for SRR24062652\n",
      "Read 1444544 spots for SRR24062652\n",
      "Written 1444544 spots for SRR24062652\n",
      "Read 1444544 spots for SRR24062652\n",
      "Written 1444544 spots for SRR24062652\n",
      "Read 1444546 spots for SRR24062652\n",
      "Written 1444546 spots for SRR24062652\n",
      "Read 1444544 spots for SRR24062652\n",
      "Written 1444544 spots for SRR24062652\n",
      "Read 1444544 spots for SRR24062652\n",
      "Written 1444544 spots for SRR24062652\n",
      "Read 1444544 spots for SRR24062652\n",
      "Written 1444544 spots for SRR24062652\n",
      "Read 1444544 spots for SRR24062652\n",
      "Written 1444544 spots for SRR24062652\n",
      "SRR ids: ['SRR24062653']\n",
      "extra args: ['--gzip']\n",
      "tempdir: /tmp/pfd_eswn5ply\n",
      "SRR24062653 spots: 35289489\n",
      "blocks: [[1, 1470395], [1470396, 2940790], [2940791, 4411185], [4411186, 5881580], [5881581, 7351975], [7351976, 8822370], [8822371, 10292765], [10292766, 11763160], [11763161, 13233555], [13233556, 14703950], [14703951, 16174345], [16174346, 17644740], [17644741, 19115135], [19115136, 20585530], [20585531, 22055925], [22055926, 23526320], [23526321, 24996715], [24996716, 26467110], [26467111, 27937505], [27937506, 29407900], [29407901, 30878295], [30878296, 32348690], [32348691, 33819085], [33819086, 35289489]]\n",
      "Read 1470395 spots for SRR24062653\n",
      "Written 1470395 spots for SRR24062653\n",
      "Read 1470395 spots for SRR24062653\n",
      "Written 1470395 spots for SRR24062653\n",
      "Read 1470395 spots for SRR24062653\n",
      "Written 1470395 spots for SRR24062653\n",
      "Read 1470395 spots for SRR24062653\n",
      "Written 1470395 spots for SRR24062653\n",
      "Read 1470395 spots for SRR24062653\n",
      "Written 1470395 spots for SRR24062653\n",
      "Read 1470404 spots for SRR24062653\n",
      "Written 1470404 spots for SRR24062653\n",
      "Read 1470395 spots for SRR24062653\n",
      "Written 1470395 spots for SRR24062653\n",
      "Read 1470395 spots for SRR24062653\n",
      "Written 1470395 spots for SRR24062653\n",
      "Read 1470395 spots for SRR24062653\n",
      "Written 1470395 spots for SRR24062653\n",
      "Read 1470395 spots for SRR24062653\n",
      "Written 1470395 spots for SRR24062653\n",
      "Read 1470395 spots for SRR24062653\n",
      "Written 1470395 spots for SRR24062653\n",
      "Read 1470395 spots for SRR24062653\n",
      "Written 1470395 spots for SRR24062653\n",
      "Read 1470395 spots for SRR24062653\n",
      "Written 1470395 spots for SRR24062653\n",
      "Read 1470395 spots for SRR24062653\n",
      "Written 1470395 spots for SRR24062653\n",
      "Read 1470395 spots for SRR24062653\n",
      "Written 1470395 spots for SRR24062653\n",
      "Read 1470395 spots for SRR24062653\n",
      "Written 1470395 spots for SRR24062653\n",
      "Read 1470395 spots for SRR24062653\n",
      "Written 1470395 spots for SRR24062653\n",
      "Read 1470395 spots for SRR24062653\n",
      "Written 1470395 spots for SRR24062653\n",
      "Read 1470395 spots for SRR24062653\n",
      "Written 1470395 spots for SRR24062653\n",
      "Read 1470395 spots for SRR24062653\n",
      "Written 1470395 spots for SRR24062653\n",
      "Read 1470395 spots for SRR24062653\n",
      "Written 1470395 spots for SRR24062653\n",
      "Read 1470395 spots for SRR24062653\n",
      "Written 1470395 spots for SRR24062653\n",
      "Read 1470395 spots for SRR24062653\n",
      "Written 1470395 spots for SRR24062653\n",
      "Read 1470395 spots for SRR24062653\n",
      "Written 1470395 spots for SRR24062653\n",
      "SRR ids: ['SRR24062654']\n",
      "extra args: ['--gzip']\n",
      "tempdir: /tmp/pfd_qznncw5f\n",
      "SRR24062654 spots: 34928074\n",
      "blocks: [[1, 1455336], [1455337, 2910672], [2910673, 4366008], [4366009, 5821344], [5821345, 7276680], [7276681, 8732016], [8732017, 10187352], [10187353, 11642688], [11642689, 13098024], [13098025, 14553360], [14553361, 16008696], [16008697, 17464032], [17464033, 18919368], [18919369, 20374704], [20374705, 21830040], [21830041, 23285376], [23285377, 24740712], [24740713, 26196048], [26196049, 27651384], [27651385, 29106720], [29106721, 30562056], [30562057, 32017392], [32017393, 33472728], [33472729, 34928074]]\n",
      "Read 1455336 spots for SRR24062654\n",
      "Written 1455336 spots for SRR24062654\n",
      "Read 1455336 spots for SRR24062654\n",
      "Written 1455336 spots for SRR24062654\n",
      "Read 1455336 spots for SRR24062654\n",
      "Written 1455336 spots for SRR24062654\n",
      "Read 1455336 spots for SRR24062654\n",
      "Written 1455336 spots for SRR24062654\n",
      "Read 1455336 spots for SRR24062654\n",
      "Written 1455336 spots for SRR24062654\n",
      "Read 1455336 spots for SRR24062654\n",
      "Written 1455336 spots for SRR24062654\n",
      "Read 1455336 spots for SRR24062654\n",
      "Written 1455336 spots for SRR24062654\n",
      "Read 1455336 spots for SRR24062654\n",
      "Written 1455336 spots for SRR24062654\n",
      "Read 1455346 spots for SRR24062654\n",
      "Written 1455346 spots for SRR24062654\n",
      "Read 1455336 spots for SRR24062654\n",
      "Written 1455336 spots for SRR24062654\n",
      "Read 1455336 spots for SRR24062654\n",
      "Written 1455336 spots for SRR24062654\n",
      "Read 1455336 spots for SRR24062654\n",
      "Written 1455336 spots for SRR24062654\n",
      "Read 1455336 spots for SRR24062654\n",
      "Written 1455336 spots for SRR24062654\n",
      "Read 1455336 spots for SRR24062654\n",
      "Written 1455336 spots for SRR24062654\n",
      "Read 1455336 spots for SRR24062654\n",
      "Written 1455336 spots for SRR24062654\n",
      "Read 1455336 spots for SRR24062654\n",
      "Written 1455336 spots for SRR24062654\n",
      "Read 1455336 spots for SRR24062654\n",
      "Written 1455336 spots for SRR24062654\n",
      "Read 1455336 spots for SRR24062654\n",
      "Written 1455336 spots for SRR24062654\n",
      "Read 1455336 spots for SRR24062654\n",
      "Written 1455336 spots for SRR24062654\n",
      "Read 1455336 spots for SRR24062654\n",
      "Written 1455336 spots for SRR24062654\n",
      "Read 1455336 spots for SRR24062654\n",
      "Written 1455336 spots for SRR24062654\n",
      "Read 1455336 spots for SRR24062654\n",
      "Written 1455336 spots for SRR24062654\n",
      "Read 1455336 spots for SRR24062654\n",
      "Written 1455336 spots for SRR24062654\n",
      "Read 1455336 spots for SRR24062654\n",
      "Written 1455336 spots for SRR24062654\n"
     ]
    }
   ],
   "source": [
    "print(\"fastq contents:\")\n",
    "%cd /home/{MIAMIID}/test/raw_data\n",
    "!ls fastq\n",
    "!bash fastq/getFastqData.sh"
   ]
  },
  {
   "cell_type": "code",
   "execution_count": 34,
   "metadata": {
    "scrolled": true
   },
   "outputs": [
    {
     "name": "stdout",
     "output_type": "stream",
     "text": [
      "/home/schroe51/test/raw_data/fastq\n",
      "getFastqData.sh       SRR24062654.fastq.gz  SRR24062657.fastq.gz\n",
      "SRR24062652.fastq.gz  SRR24062655.fastq.gz\n",
      "SRR24062653.fastq.gz  SRR24062656.fastq.gz\n"
     ]
    }
   ],
   "source": [
    "%cd /home/{MIAMIID}/test/raw_data/fastq/\n",
    "!ls"
   ]
  }
 ],
 "metadata": {
  "colab": {
   "collapsed_sections": [],
   "provenance": []
  },
  "kernelspec": {
   "display_name": "Python 3",
   "language": "python",
   "name": "python3"
  },
  "language_info": {
   "codemirror_mode": {
    "name": "ipython",
    "version": 3
   },
   "file_extension": ".py",
   "mimetype": "text/x-python",
   "name": "python",
   "nbconvert_exporter": "python",
   "pygments_lexer": "ipython3",
   "version": "3.7.1"
  }
 },
 "nbformat": 4,
 "nbformat_minor": 1
}
