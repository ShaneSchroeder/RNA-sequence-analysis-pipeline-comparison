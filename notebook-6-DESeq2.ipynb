{
 "cells": [
  {
   "cell_type": "markdown",
   "id": "ecf61db9",
   "metadata": {},
   "source": [
    "# From the previous notebook we saw that each of the mouse samples had different feature counts, now we can look further into the data to figure out how they were expressed differently based on those feature counts. We will use R and the packages Rsubread and DESeq2 for this analysis (use following command to load R that already has the packages installed: \n",
    "# module load R-4.1.2"
   ]
  },
  {
   "cell_type": "code",
   "execution_count": 1,
   "id": "83f6e2ef",
   "metadata": {},
   "outputs": [
    {
     "name": "stdout",
     "output_type": "stream",
     "text": [
      "schroe51\n"
     ]
    }
   ],
   "source": [
    "MIAMIID = !echo $USER\n",
    "MIAMIID = str(MIAMIID)\n",
    "MIAMIID = MIAMIID[2:len(MIAMIID)-2]\n",
    "print(MIAMIID)"
   ]
  },
  {
   "cell_type": "markdown",
   "id": "f868792e",
   "metadata": {},
   "source": [
    "## We are going to read in counts.csv from last notebook in an R script to use DESeq2"
   ]
  },
  {
   "cell_type": "code",
   "execution_count": 2,
   "id": "f4f1b804",
   "metadata": {},
   "outputs": [
    {
     "name": "stdout",
     "output_type": "stream",
     "text": [
      "/home/schroe51/test/DESeq2\n"
     ]
    }
   ],
   "source": [
    "%mkdir -p /home/{MIAMIID}/test/DESeq2\n",
    "%cd /home/{MIAMIID}/test/DESeq2"
   ]
  },
  {
   "cell_type": "markdown",
   "id": "66c6da93",
   "metadata": {},
   "source": [
    "## We need to now generate a metadata file for our run data in order for DESeq2 to perform analysis. Refer to the following table to see how we are constructing our metadata. This data was derived from the metadata of the runs for this experiment on the NCBI run selector.\n",
    "\n",
    "| SRR ID | Treatment |\n",
    "| --- | --- |\n",
    "| SRR24062652 | KO |\n",
    "| SRR24062653 | KO |\n",
    "| SRR24062654 | KO |\n",
    "| SRR24062655 | WT |\n",
    "| SRR24062656 | WT |\n",
    "| SRR24062657 | WT |"
   ]
  },
  {
   "cell_type": "code",
   "execution_count": 3,
   "id": "463908d8",
   "metadata": {},
   "outputs": [],
   "source": [
    "import csv\n",
    "\n",
    "pathToNewFile = \"/home/\"+ MIAMIID + \"/test/DESeq2/metadata.csv\"\n",
    "\n",
    "header = ['SRR.ID', 'Treatment']\n",
    "data = [\"SRR24062652\", \"KO\", \n",
    "        \"SRR24062653\", \"KO\", \n",
    "        \"SRR24062654\", \"KO\", \n",
    "        \"SRR24062655\", \"WT\", \n",
    "        \"SRR24062656\", \"WT\", \n",
    "        \"SRR24062657\", \"WT\"]\n",
    "\n",
    "# open the file in the write mode\n",
    "with open(pathToNewFile, 'w', encoding='UTF8') as f:\n",
    "    writer = csv.writer(f)\n",
    "\n",
    "    # write the header\n",
    "    writer.writerow(header)\n",
    "\n",
    "    # write the data\n",
    "    for i in range(0, len(data) - 1, 2):\n",
    "        writer.writerow(data[i: i+2])\n"
   ]
  },
  {
   "cell_type": "code",
   "execution_count": 4,
   "id": "e1f37108",
   "metadata": {},
   "outputs": [
    {
     "name": "stdout",
     "output_type": "stream",
     "text": [
      "SRR.ID,Treatment\r",
      "\r\n",
      "SRR24062652,KO\r",
      "\r\n",
      "SRR24062653,KO\r",
      "\r\n",
      "SRR24062654,KO\r",
      "\r\n",
      "SRR24062655,WT\r",
      "\r\n",
      "SRR24062656,WT\r",
      "\r\n",
      "SRR24062657,WT\r",
      "\r\n"
     ]
    }
   ],
   "source": [
    "!cat /home/{MIAMIID}/test/DESeq2/metadata.csv"
   ]
  },
  {
   "cell_type": "markdown",
   "id": "a3b9008d",
   "metadata": {},
   "source": [
    "## Now that we have our meta data, we can write our R script to use DESeq2 to get statistics about differential expression."
   ]
  },
  {
   "cell_type": "code",
   "execution_count": 6,
   "id": "84582282",
   "metadata": {},
   "outputs": [],
   "source": [
    "pathToCountData = \"/home/\"+ MIAMIID + \"/test/featureCounts/counts_short.csv\"\n",
    "pathToMetaData = \"/home/\"+ MIAMIID + \"/test/DESeq2/metadata.csv\"\n",
    "\n",
    "DESeq2Script = '''\n",
    "suppressMessages(library( \"DESeq2\" ))\n",
    "suppressMessages(library(ggplot2))\n",
    "suppressMessages(library(ggpubr))\n",
    "suppressMessages(library(ggrepel))\n",
    "\n",
    "countData <- read.csv(\"''' + pathToCountData + '''\", header = TRUE, sep = \",\")\n",
    "metaData <- read.csv(\"''' + pathToMetaData + '''\", header = TRUE, sep = \",\")\n",
    "\n",
    "# construct DESeq data object\n",
    "dds <- DESeqDataSetFromMatrix(countData=countData, \n",
    "                              colData=metaData, \n",
    "                              design=~Treatment, tidy = TRUE)\n",
    "\n",
    "# take a look at the DESeq data object\n",
    "dds\n",
    "\n",
    "# \n",
    "dds <- DESeq(dds)\n",
    "\n",
    "res <- results(dds)\n",
    "head(results(dds, tidy=TRUE))\n",
    "\n",
    "summary(res)\n",
    "\n",
    "res <- res[order(res$padj),]\n",
    "head(res)\n",
    "\n",
    "# plotting counts for the lowest p-value genes\n",
    "\n",
    "par(mfrow=c(2,3))\n",
    "\n",
    "d1 <- plotCounts(dds, gene=\"ENSMUSG00000110469\", intgroup=\"Treatment\", returnData=TRUE)\n",
    "d2 <- plotCounts(dds, gene=\"ENSMUSG00000044424\", intgroup=\"Treatment\", returnData=TRUE)\n",
    "d3 <- plotCounts(dds, gene=\"ENSMUSG00000107383\", intgroup=\"Treatment\", returnData=TRUE)\n",
    "d4 <- plotCounts(dds, gene=\"ENSMUSG00000114547\", intgroup=\"Treatment\", returnData=TRUE)\n",
    "d5 <- plotCounts(dds, gene=\"ENSMUSG00000057657\", intgroup=\"Treatment\", returnData=TRUE)\n",
    "d6 <- plotCounts(dds, gene=\"ENSMUSG00000084149\", intgroup=\"Treatment\", returnData=TRUE)\n",
    "\n",
    "plot_pval_1 <- ggplot(d1, aes(x = Treatment, y = count, color = Treatment)) + \n",
    "  geom_point(position=position_jitter(w = 0.1,h = 0)) +\n",
    "  theme_bw() +\n",
    "  ggtitle(\"ENSMUSG00000110469\") +\n",
    "  theme(plot.title = element_text(hjust = 0.5))\n",
    "  \n",
    "plot_pval_2 <- ggplot(d2, aes(x = Treatment, y = count, color = Treatment)) + \n",
    "  geom_point(position=position_jitter(w = 0.1,h = 0)) +\n",
    "  theme_bw() +\n",
    "  ggtitle(\"ENSMUSG00000044424\") +\n",
    "  theme(plot.title = element_text(hjust = 0.5))\n",
    "  \n",
    "plot_pval_3 <- ggplot(d3, aes(x = Treatment, y = count, color = Treatment)) + \n",
    "  geom_point(position=position_jitter(w = 0.1,h = 0)) +\n",
    "  theme_bw() +\n",
    "  ggtitle(\"ENSMUSG00000107383\") +\n",
    "  theme(plot.title = element_text(hjust = 0.5))\n",
    "  \n",
    "plot_pval_4 <- ggplot(d4, aes(x = Treatment, y = count, color = Treatment)) + \n",
    "  geom_point(position=position_jitter(w = 0.1,h = 0)) +\n",
    "  theme_bw() +\n",
    "  ggtitle(\"ENSMUSG00000114547\") +\n",
    "  theme(plot.title = element_text(hjust = 0.5))\n",
    "  \n",
    "plot_pval_5 <- ggplot(d5, aes(x = Treatment, y = count, color = Treatment)) + \n",
    "  geom_point(position=position_jitter(w = 0.1,h = 0)) +\n",
    "  theme_bw() +\n",
    "  ggtitle(\"ENSMUSG00000057657\") +\n",
    "  theme(plot.title = element_text(hjust = 0.5))\n",
    "  \n",
    "plot_pval_6 <- ggplot(d6, aes(x = Treatment, y = count, color = Treatment)) + \n",
    "  geom_point(position=position_jitter(w = 0.1,h = 0)) +\n",
    "  theme_bw() +\n",
    "  ggtitle(\"ENSMUSG00000084149\") +\n",
    "  theme(plot.title = element_text(hjust = 0.5))\n",
    "\n",
    "arrange <- ggarrange(plot_pval_1, plot_pval_2, plot_pval_3, plot_pval_4, plot_pval_5, plot_pval_6, ncol = 2, nrow = 3)\n",
    "ggsave(\"6mostSigGenes.png\", arrange)\n",
    "\n",
    "# volcano plot\n",
    "\n",
    "#reset par\n",
    "par(mfrow=c(1,1))\n",
    "\n",
    "# Make a basic volcano plot\n",
    "\n",
    "# res <- as.data.frame(res)\n",
    "# print(colnames(res))\n",
    "# \n",
    "# res$diffexpressed <- \"NO\"\n",
    "# res$diffexpressed[res$log2FoldChange > 0.6 & res$pvalue < 0.05] <- \"UP\"\n",
    "# res$diffexpressed[res$log2FoldChange < -0.6 & res$pvalue < 0.05] <- \"DOWN\"\n",
    "# \n",
    "# volcano <- ggplot(data=res, aes(x=log2FoldChange, y=-log10(pvalue), col=diffexpressed, label=res.index)) +\n",
    "#           geom_point() + \n",
    "#           theme_minimal() +\n",
    "#           geom_text_repel() +\n",
    "#           scale_color_manual(values=c(\"blue\", \"black\", \"red\")) +\n",
    "#           geom_vline(xintercept=c(-0.6, 0.6), col=\"red\") +\n",
    "#           geom_hline(yintercept=-log10(0.05), col=\"red\")\n",
    "\n",
    "volcano <- with(res, plot(log2FoldChange, -log10(pvalue), pch=20, main=\"Volcano plot\"))\n",
    "\n",
    "# Add colored points: blue if padj<0.01, red if log2FC>1 and padj<0.05)\n",
    "volcano <- with(subset(res, padj<.05 & log2FoldChange< -1), points(log2FoldChange, -log10(pvalue), pch=20, col=\"blue\"))\n",
    "volcano <- with(subset(res, padj<.05 & log2FoldChange>1), points(log2FoldChange, -log10(pvalue), pch=20, col=\"red\"))\n",
    "\n",
    "ggsave(\"volcano.png\", volcano)\n",
    "\n",
    "# PCA\n",
    "vsdata <- vst(dds, blind=FALSE)\n",
    "pcaData <- plotPCA(vsdata, intgroup=\"Treatment\", returnData=TRUE)\n",
    "pcaPlot <- ggplot(pcaData, aes(x=PC1,y=PC2,col=Treatment,label=name)) + geom_point() + geom_text_repel()\n",
    "ggsave(\"pca.png\", pcaPlot)\n",
    "'''\n",
    "with open('DESeq2_analysis.R', 'w') as file:\n",
    "  file.write(DESeq2Script)"
   ]
  },
  {
   "cell_type": "code",
   "execution_count": 7,
   "id": "fd6a761e",
   "metadata": {
    "scrolled": false
   },
   "outputs": [
    {
     "name": "stdout",
     "output_type": "stream",
     "text": [
      "class: DESeqDataSet \n",
      "dim: 55487 6 \n",
      "metadata(1): version\n",
      "assays(1): counts\n",
      "rownames(55487): ENSMUSG00000102693 ENSMUSG00000064842 ...\n",
      "  ENSMUSG00000064371 ENSMUSG00000064372\n",
      "rowData names(0):\n",
      "colnames(6): SRR24062652 SRR24062653 ... SRR24062656 SRR24062657\n",
      "colData names(2): SRR.ID Treatment\n",
      "                 row baseMean log2FoldChange    lfcSE      stat    pvalue padj\n",
      "1 ENSMUSG00000102693  0.00000             NA       NA        NA        NA   NA\n",
      "2 ENSMUSG00000064842  0.00000             NA       NA        NA        NA   NA\n",
      "3 ENSMUSG00000051951  6.57908      0.6760391 1.202132 0.5623666 0.5738663   NA\n",
      "4 ENSMUSG00000102851  0.00000             NA       NA        NA        NA   NA\n",
      "5 ENSMUSG00000103377  0.00000             NA       NA        NA        NA   NA\n",
      "6 ENSMUSG00000104017  0.00000             NA       NA        NA        NA   NA\n",
      "\n",
      "out of 22173 with nonzero total read count\n",
      "adjusted p-value < 0.1\n",
      "LFC > 0 (up)       : 188, 0.85%\n",
      "LFC < 0 (down)     : 473, 2.1%\n",
      "outliers [1]       : 146, 0.66%\n",
      "low counts [2]     : 10191, 46%\n",
      "(mean count < 89)\n",
      "[1] see 'cooksCutoff' argument of ?results\n",
      "[2] see 'independentFiltering' argument of ?results\n",
      "\n",
      "log2 fold change (MLE): Treatment WT vs KO \n",
      "Wald test p-value: Treatment WT vs KO \n",
      "DataFrame with 6 rows and 6 columns\n",
      "                    baseMean log2FoldChange     lfcSE      stat      pvalue\n",
      "                   <numeric>      <numeric> <numeric> <numeric>   <numeric>\n",
      "ENSMUSG00000031161  1055.030       2.404912  0.182240  13.19643 9.19874e-40\n",
      "ENSMUSG00000048538   283.970      11.563599  1.209351   9.56182 1.15704e-21\n",
      "ENSMUSG00000106926   243.877     -11.412389  1.209909  -9.43243 4.00686e-21\n",
      "ENSMUSG00000083179   187.916     -11.036246  1.227086  -8.99387 2.38685e-19\n",
      "ENSMUSG00000041481 17343.610      -0.842223  0.107085  -7.86502 3.69046e-15\n",
      "ENSMUSG00000069083  3276.874     -28.711437  3.906779  -7.34913 1.99496e-13\n",
      "                          padj\n",
      "                     <numeric>\n",
      "ENSMUSG00000031161 1.08876e-35\n",
      "ENSMUSG00000048538 6.84734e-18\n",
      "ENSMUSG00000106926 1.58084e-17\n",
      "ENSMUSG00000083179 7.06268e-16\n",
      "ENSMUSG00000041481 8.73605e-12\n",
      "ENSMUSG00000069083 3.93539e-10\n"
     ]
    },
    {
     "name": "stderr",
     "output_type": "stream",
     "text": [
      "Warning message:\n",
      "In DESeqDataSet(se, design = design, ignoreRank) :\n",
      "  some variables in design formula are characters, converting to factors\n",
      "estimating size factors\n",
      "estimating dispersions\n",
      "gene-wise dispersion estimates\n",
      "mean-dispersion relationship\n",
      "final dispersion estimates\n",
      "fitting model and testing\n",
      "Saving 7 x 7 in image\n",
      "Saving 7 x 7 in image\n",
      "Saving 7 x 7 in image\n"
     ]
    }
   ],
   "source": [
    "%%sh\n",
    "Rscript DESeq2_analysis.R"
   ]
  },
  {
   "cell_type": "markdown",
   "id": "b8d9508a",
   "metadata": {},
   "source": [
    "# Now that we have finished the statistical model, let us move and look at some of the plots that were generated"
   ]
  },
  {
   "cell_type": "code",
   "execution_count": 8,
   "id": "a03bf059",
   "metadata": {},
   "outputs": [
    {
     "name": "stdout",
     "output_type": "stream",
     "text": [
      "/home/schroe51/test/DESeq2/plots\n",
      "6mostSigGenes.png  pca.png  Rplots.pdf\tvolcano.png\r\n"
     ]
    }
   ],
   "source": [
    "%mkdir -p /home/{MIAMIID}/test/DESeq2/plots\n",
    "!mv *.png /home/{MIAMIID}/test/DESeq2/plots\n",
    "!mv *.pdf /home/{MIAMIID}/test/DESeq2/plots\n",
    "%cd /home/{MIAMIID}/test/DESeq2/plots\n",
    "!ls"
   ]
  },
  {
   "cell_type": "markdown",
   "id": "79126cc8",
   "metadata": {},
   "source": [
    "# Congratulations! You are now done generating data, you may now interpret the results in the output and the graphs generated by the R script."
   ]
  }
 ],
 "metadata": {
  "kernelspec": {
   "display_name": "Python 3",
   "language": "python",
   "name": "python3"
  },
  "language_info": {
   "codemirror_mode": {
    "name": "ipython",
    "version": 3
   },
   "file_extension": ".py",
   "mimetype": "text/x-python",
   "name": "python",
   "nbconvert_exporter": "python",
   "pygments_lexer": "ipython3",
   "version": "3.7.1"
  }
 },
 "nbformat": 4,
 "nbformat_minor": 5
}
